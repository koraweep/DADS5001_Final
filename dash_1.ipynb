{
 "cells": [
  {
   "cell_type": "code",
   "execution_count": 1,
   "metadata": {},
   "outputs": [
    {
     "name": "stderr",
     "output_type": "stream",
     "text": [
      "C:\\Users\\SSORAWIT\\AppData\\Local\\Temp\\ipykernel_11076\\4086521113.py:3: UserWarning: \n",
      "The dash_core_components package is deprecated. Please replace\n",
      "`import dash_core_components as dcc` with `from dash import dcc`\n",
      "  import dash_core_components as dcc\n",
      "C:\\Users\\SSORAWIT\\AppData\\Local\\Temp\\ipykernel_11076\\4086521113.py:4: UserWarning: \n",
      "The dash_html_components package is deprecated. Please replace\n",
      "`import dash_html_components as html` with `from dash import html`\n",
      "  import dash_html_components as html\n"
     ]
    }
   ],
   "source": [
    "from jupyter_dash import JupyterDash\n",
    "import dash\n",
    "import dash_core_components as dcc\n",
    "import dash_html_components as html\n",
    "from dash.dependencies import Input, Output\n",
    "import pandas as pd\n",
    "import numpy as np\n",
    "\n",
    "from datetime import datetime as dt\n",
    "import plotly.express as px\n",
    "\n",
    "import base64\n",
    "import dash_html_components as html"
   ]
  },
  {
   "cell_type": "code",
   "execution_count": 2,
   "metadata": {},
   "outputs": [],
   "source": [
    "# !pip install dash_html_components"
   ]
  },
  {
   "cell_type": "code",
   "execution_count": 3,
   "metadata": {},
   "outputs": [],
   "source": [
    "import pandas as pd\n",
    "import plotly.express as px\n",
    "import plotly.graph_objects as go\n",
    "import plotly.io as pio"
   ]
  },
  {
   "cell_type": "code",
   "execution_count": 4,
   "metadata": {},
   "outputs": [],
   "source": [
    "# country\n",
    "df_country = pd.read_csv('final_data/country_summary_final.csv')"
   ]
  },
  {
   "cell_type": "code",
   "execution_count": 14,
   "metadata": {},
   "outputs": [
    {
     "data": {
      "application/vnd.plotly.v1+json": {
       "config": {
        "plotlyServerURL": "https://plot.ly"
       },
       "data": [
        {
         "geo": "geo",
         "hovertemplate": "<b>%{hovertext}</b><br><br>country=%{location}<br>amount=%{marker.size}<extra></extra>",
         "hovertext": [
          "THAILAND"
         ],
         "legendgroup": "THAILAND",
         "locationmode": "country names",
         "locations": [
          "THAILAND"
         ],
         "marker": {
          "color": "#636efa",
          "size": [
           12476
          ],
          "sizemode": "area",
          "sizeref": 3.4655555555555555,
          "symbol": "circle"
         },
         "mode": "markers",
         "name": "THAILAND",
         "showlegend": true,
         "type": "scattergeo"
        },
        {
         "geo": "geo",
         "hovertemplate": "<b>%{hovertext}</b><br><br>country=%{location}<br>amount=%{marker.size}<extra></extra>",
         "hovertext": [
          "CAMBODIA"
         ],
         "legendgroup": "CAMBODIA",
         "locationmode": "country names",
         "locations": [
          "CAMBODIA"
         ],
         "marker": {
          "color": "#EF553B",
          "size": [
           5266
          ],
          "sizemode": "area",
          "sizeref": 3.4655555555555555,
          "symbol": "circle"
         },
         "mode": "markers",
         "name": "CAMBODIA",
         "showlegend": true,
         "type": "scattergeo"
        },
        {
         "geo": "geo",
         "hovertemplate": "<b>%{hovertext}</b><br><br>country=%{location}<br>amount=%{marker.size}<extra></extra>",
         "hovertext": [
          "BRAZIL"
         ],
         "legendgroup": "BRAZIL",
         "locationmode": "country names",
         "locations": [
          "BRAZIL"
         ],
         "marker": {
          "color": "#00cc96",
          "size": [
           4360
          ],
          "sizemode": "area",
          "sizeref": 3.4655555555555555,
          "symbol": "circle"
         },
         "mode": "markers",
         "name": "BRAZIL",
         "showlegend": true,
         "type": "scattergeo"
        },
        {
         "geo": "geo",
         "hovertemplate": "<b>%{hovertext}</b><br><br>country=%{location}<br>amount=%{marker.size}<extra></extra>",
         "hovertext": [
          "INDONESIA"
         ],
         "legendgroup": "INDONESIA",
         "locationmode": "country names",
         "locations": [
          "INDONESIA"
         ],
         "marker": {
          "color": "#ab63fa",
          "size": [
           3723
          ],
          "sizemode": "area",
          "sizeref": 3.4655555555555555,
          "symbol": "circle"
         },
         "mode": "markers",
         "name": "INDONESIA",
         "showlegend": true,
         "type": "scattergeo"
        },
        {
         "geo": "geo",
         "hovertemplate": "<b>%{hovertext}</b><br><br>country=%{location}<br>amount=%{marker.size}<extra></extra>",
         "hovertext": [
          "PHILIPPINES"
         ],
         "legendgroup": "PHILIPPINES",
         "locationmode": "country names",
         "locations": [
          "PHILIPPINES"
         ],
         "marker": {
          "color": "#FFA15A",
          "size": [
           1807
          ],
          "sizemode": "area",
          "sizeref": 3.4655555555555555,
          "symbol": "circle"
         },
         "mode": "markers",
         "name": "PHILIPPINES",
         "showlegend": true,
         "type": "scattergeo"
        },
        {
         "geo": "geo",
         "hovertemplate": "<b>%{hovertext}</b><br><br>country=%{location}<br>amount=%{marker.size}<extra></extra>",
         "hovertext": [
          "VIETNAM"
         ],
         "legendgroup": "VIETNAM",
         "locationmode": "country names",
         "locations": [
          "VIETNAM"
         ],
         "marker": {
          "color": "#19d3f3",
          "size": [
           1414
          ],
          "sizemode": "area",
          "sizeref": 3.4655555555555555,
          "symbol": "circle"
         },
         "mode": "markers",
         "name": "VIETNAM",
         "showlegend": true,
         "type": "scattergeo"
        },
        {
         "geo": "geo",
         "hovertemplate": "<b>%{hovertext}</b><br><br>country=%{location}<br>amount=%{marker.size}<extra></extra>",
         "hovertext": [
          "MYANMAR"
         ],
         "legendgroup": "MYANMAR",
         "locationmode": "country names",
         "locations": [
          "MYANMAR"
         ],
         "marker": {
          "color": "#FF6692",
          "size": [
           610
          ],
          "sizemode": "area",
          "sizeref": 3.4655555555555555,
          "symbol": "circle"
         },
         "mode": "markers",
         "name": "MYANMAR",
         "showlegend": true,
         "type": "scattergeo"
        },
        {
         "geo": "geo",
         "hovertemplate": "<b>%{hovertext}</b><br><br>country=%{location}<br>amount=%{marker.size}<extra></extra>",
         "hovertext": [
          "MEXICO"
         ],
         "legendgroup": "MEXICO",
         "locationmode": "country names",
         "locations": [
          "MEXICO"
         ],
         "marker": {
          "color": "#B6E880",
          "size": [
           207
          ],
          "sizemode": "area",
          "sizeref": 3.4655555555555555,
          "symbol": "circle"
         },
         "mode": "markers",
         "name": "MEXICO",
         "showlegend": true,
         "type": "scattergeo"
        },
        {
         "geo": "geo",
         "hovertemplate": "<b>%{hovertext}</b><br><br>country=%{location}<br>amount=%{marker.size}<extra></extra>",
         "hovertext": [
          "COLOMBIA"
         ],
         "legendgroup": "COLOMBIA",
         "locationmode": "country names",
         "locations": [
          "COLOMBIA"
         ],
         "marker": {
          "color": "#FF97FF",
          "size": [
           189
          ],
          "sizemode": "area",
          "sizeref": 3.4655555555555555,
          "symbol": "circle"
         },
         "mode": "markers",
         "name": "COLOMBIA",
         "showlegend": true,
         "type": "scattergeo"
        },
        {
         "geo": "geo",
         "hovertemplate": "<b>%{hovertext}</b><br><br>country=%{location}<br>amount=%{marker.size}<extra></extra>",
         "hovertext": [
          "PUERTO RICO"
         ],
         "legendgroup": "PUERTO RICO",
         "locationmode": "country names",
         "locations": [
          "PUERTO RICO"
         ],
         "marker": {
          "color": "#FECB52",
          "size": [
           140
          ],
          "sizemode": "area",
          "sizeref": 3.4655555555555555,
          "symbol": "circle"
         },
         "mode": "markers",
         "name": "PUERTO RICO",
         "showlegend": true,
         "type": "scattergeo"
        },
        {
         "geo": "geo",
         "hovertemplate": "<b>%{hovertext}</b><br><br>country=%{location}<br>amount=%{marker.size}<extra></extra>",
         "hovertext": [
          "MOZAMBIQUE"
         ],
         "legendgroup": "MOZAMBIQUE",
         "locationmode": "country names",
         "locations": [
          "MOZAMBIQUE"
         ],
         "marker": {
          "color": "#636efa",
          "size": [
           134
          ],
          "sizemode": "area",
          "sizeref": 3.4655555555555555,
          "symbol": "circle"
         },
         "mode": "markers",
         "name": "MOZAMBIQUE",
         "showlegend": true,
         "type": "scattergeo"
        },
        {
         "geo": "geo",
         "hovertemplate": "<b>%{hovertext}</b><br><br>country=%{location}<br>amount=%{marker.size}<extra></extra>",
         "hovertext": [
          "MALAYSIA"
         ],
         "legendgroup": "MALAYSIA",
         "locationmode": "country names",
         "locations": [
          "MALAYSIA"
         ],
         "marker": {
          "color": "#EF553B",
          "size": [
           121
          ],
          "sizemode": "area",
          "sizeref": 3.4655555555555555,
          "symbol": "circle"
         },
         "mode": "markers",
         "name": "MALAYSIA",
         "showlegend": true,
         "type": "scattergeo"
        },
        {
         "geo": "geo",
         "hovertemplate": "<b>%{hovertext}</b><br><br>country=%{location}<br>amount=%{marker.size}<extra></extra>",
         "hovertext": [
          "PERU"
         ],
         "legendgroup": "PERU",
         "locationmode": "country names",
         "locations": [
          "PERU"
         ],
         "marker": {
          "color": "#00cc96",
          "size": [
           93
          ],
          "sizemode": "area",
          "sizeref": 3.4655555555555555,
          "symbol": "circle"
         },
         "mode": "markers",
         "name": "PERU",
         "showlegend": true,
         "type": "scattergeo"
        },
        {
         "geo": "geo",
         "hovertemplate": "<b>%{hovertext}</b><br><br>country=%{location}<br>amount=%{marker.size}<extra></extra>",
         "hovertext": [
          "GUATEMALA"
         ],
         "legendgroup": "GUATEMALA",
         "locationmode": "country names",
         "locations": [
          "GUATEMALA"
         ],
         "marker": {
          "color": "#ab63fa",
          "size": [
           78
          ],
          "sizemode": "area",
          "sizeref": 3.4655555555555555,
          "symbol": "circle"
         },
         "mode": "markers",
         "name": "GUATEMALA",
         "showlegend": true,
         "type": "scattergeo"
        },
        {
         "geo": "geo",
         "hovertemplate": "<b>%{hovertext}</b><br><br>country=%{location}<br>amount=%{marker.size}<extra></extra>",
         "hovertext": [
          "PARAGUAY"
         ],
         "legendgroup": "PARAGUAY",
         "locationmode": "country names",
         "locations": [
          "PARAGUAY"
         ],
         "marker": {
          "color": "#FFA15A",
          "size": [
           75
          ],
          "sizemode": "area",
          "sizeref": 3.4655555555555555,
          "symbol": "circle"
         },
         "mode": "markers",
         "name": "PARAGUAY",
         "showlegend": true,
         "type": "scattergeo"
        },
        {
         "geo": "geo",
         "hovertemplate": "<b>%{hovertext}</b><br><br>country=%{location}<br>amount=%{marker.size}<extra></extra>",
         "hovertext": [
          "ECUADOR"
         ],
         "legendgroup": "ECUADOR",
         "locationmode": "country names",
         "locations": [
          "ECUADOR"
         ],
         "marker": {
          "color": "#19d3f3",
          "size": [
           73
          ],
          "sizemode": "area",
          "sizeref": 3.4655555555555555,
          "symbol": "circle"
         },
         "mode": "markers",
         "name": "ECUADOR",
         "showlegend": true,
         "type": "scattergeo"
        },
        {
         "geo": "geo",
         "hovertemplate": "<b>%{hovertext}</b><br><br>country=%{location}<br>amount=%{marker.size}<extra></extra>",
         "hovertext": [
          "INDIA"
         ],
         "legendgroup": "INDIA",
         "locationmode": "country names",
         "locations": [
          "INDIA"
         ],
         "marker": {
          "color": "#FF6692",
          "size": [
           48
          ],
          "sizemode": "area",
          "sizeref": 3.4655555555555555,
          "symbol": "circle"
         },
         "mode": "markers",
         "name": "INDIA",
         "showlegend": true,
         "type": "scattergeo"
        },
        {
         "geo": "geo",
         "hovertemplate": "<b>%{hovertext}</b><br><br>country=%{location}<br>amount=%{marker.size}<extra></extra>",
         "hovertext": [
          "SPAIN"
         ],
         "legendgroup": "SPAIN",
         "locationmode": "country names",
         "locations": [
          "SPAIN"
         ],
         "marker": {
          "color": "#B6E880",
          "size": [
           45
          ],
          "sizemode": "area",
          "sizeref": 3.4655555555555555,
          "symbol": "circle"
         },
         "mode": "markers",
         "name": "SPAIN",
         "showlegend": true,
         "type": "scattergeo"
        },
        {
         "geo": "geo",
         "hovertemplate": "<b>%{hovertext}</b><br><br>country=%{location}<br>amount=%{marker.size}<extra></extra>",
         "hovertext": [
          "DOMINICA"
         ],
         "legendgroup": "DOMINICA",
         "locationmode": "country names",
         "locations": [
          "DOMINICA"
         ],
         "marker": {
          "color": "#FF97FF",
          "size": [
           31
          ],
          "sizemode": "area",
          "sizeref": 3.4655555555555555,
          "symbol": "circle"
         },
         "mode": "markers",
         "name": "DOMINICA",
         "showlegend": true,
         "type": "scattergeo"
        },
        {
         "geo": "geo",
         "hovertemplate": "<b>%{hovertext}</b><br><br>country=%{location}<br>amount=%{marker.size}<extra></extra>",
         "hovertext": [
          "HONDURAS"
         ],
         "legendgroup": "HONDURAS",
         "locationmode": "country names",
         "locations": [
          "HONDURAS"
         ],
         "marker": {
          "color": "#FECB52",
          "size": [
           27
          ],
          "sizemode": "area",
          "sizeref": 3.4655555555555555,
          "symbol": "circle"
         },
         "mode": "markers",
         "name": "HONDURAS",
         "showlegend": true,
         "type": "scattergeo"
        },
        {
         "geo": "geo",
         "hovertemplate": "<b>%{hovertext}</b><br><br>country=%{location}<br>amount=%{marker.size}<extra></extra>",
         "hovertext": [
          "HONG KONG",
          "HONG KONG"
         ],
         "legendgroup": "HONG KONG",
         "locationmode": "country names",
         "locations": [
          "HONG KONG",
          "HONG KONG"
         ],
         "marker": {
          "color": "#636efa",
          "size": [
           26,
           6
          ],
          "sizemode": "area",
          "sizeref": 3.4655555555555555,
          "symbol": "circle"
         },
         "mode": "markers",
         "name": "HONG KONG",
         "showlegend": true,
         "type": "scattergeo"
        },
        {
         "geo": "geo",
         "hovertemplate": "<b>%{hovertext}</b><br><br>country=%{location}<br>amount=%{marker.size}<extra></extra>",
         "hovertext": [
          "UKRAINE"
         ],
         "legendgroup": "UKRAINE",
         "locationmode": "country names",
         "locations": [
          "UKRAINE"
         ],
         "marker": {
          "color": "#EF553B",
          "size": [
           24
          ],
          "sizemode": "area",
          "sizeref": 3.4655555555555555,
          "symbol": "circle"
         },
         "mode": "markers",
         "name": "UKRAINE",
         "showlegend": true,
         "type": "scattergeo"
        },
        {
         "geo": "geo",
         "hovertemplate": "<b>%{hovertext}</b><br><br>country=%{location}<br>amount=%{marker.size}<extra></extra>",
         "hovertext": [
          "UGANDA"
         ],
         "legendgroup": "UGANDA",
         "locationmode": "country names",
         "locations": [
          "UGANDA"
         ],
         "marker": {
          "color": "#00cc96",
          "size": [
           23
          ],
          "sizemode": "area",
          "sizeref": 3.4655555555555555,
          "symbol": "circle"
         },
         "mode": "markers",
         "name": "UGANDA",
         "showlegend": true,
         "type": "scattergeo"
        },
        {
         "geo": "geo",
         "hovertemplate": "<b>%{hovertext}</b><br><br>country=%{location}<br>amount=%{marker.size}<extra></extra>",
         "hovertext": [
          "MAURITIUS"
         ],
         "legendgroup": "MAURITIUS",
         "locationmode": "country names",
         "locations": [
          "MAURITIUS"
         ],
         "marker": {
          "color": "#ab63fa",
          "size": [
           21
          ],
          "sizemode": "area",
          "sizeref": 3.4655555555555555,
          "symbol": "circle"
         },
         "mode": "markers",
         "name": "MAURITIUS",
         "showlegend": true,
         "type": "scattergeo"
        },
        {
         "geo": "geo",
         "hovertemplate": "<b>%{hovertext}</b><br><br>country=%{location}<br>amount=%{marker.size}<extra></extra>",
         "hovertext": [
          "COSTA RICA"
         ],
         "legendgroup": "COSTA RICA",
         "locationmode": "country names",
         "locations": [
          "COSTA RICA"
         ],
         "marker": {
          "color": "#FFA15A",
          "size": [
           17
          ],
          "sizemode": "area",
          "sizeref": 3.4655555555555555,
          "symbol": "circle"
         },
         "mode": "markers",
         "name": "COSTA RICA",
         "showlegend": true,
         "type": "scattergeo"
        },
        {
         "geo": "geo",
         "hovertemplate": "<b>%{hovertext}</b><br><br>country=%{location}<br>amount=%{marker.size}<extra></extra>",
         "hovertext": [
          "NIGERIA"
         ],
         "legendgroup": "NIGERIA",
         "locationmode": "country names",
         "locations": [
          "NIGERIA"
         ],
         "marker": {
          "color": "#19d3f3",
          "size": [
           16
          ],
          "sizemode": "area",
          "sizeref": 3.4655555555555555,
          "symbol": "circle"
         },
         "mode": "markers",
         "name": "NIGERIA",
         "showlegend": true,
         "type": "scattergeo"
        },
        {
         "geo": "geo",
         "hovertemplate": "<b>%{hovertext}</b><br><br>country=%{location}<br>amount=%{marker.size}<extra></extra>",
         "hovertext": [
          "PANAMA"
         ],
         "legendgroup": "PANAMA",
         "locationmode": "country names",
         "locations": [
          "PANAMA"
         ],
         "marker": {
          "color": "#FF6692",
          "size": [
           13
          ],
          "sizemode": "area",
          "sizeref": 3.4655555555555555,
          "symbol": "circle"
         },
         "mode": "markers",
         "name": "PANAMA",
         "showlegend": true,
         "type": "scattergeo"
        },
        {
         "geo": "geo",
         "hovertemplate": "<b>%{hovertext}</b><br><br>country=%{location}<br>amount=%{marker.size}<extra></extra>",
         "hovertext": [
          "GHANA"
         ],
         "legendgroup": "GHANA",
         "locationmode": "country names",
         "locations": [
          "GHANA"
         ],
         "marker": {
          "color": "#B6E880",
          "size": [
           11
          ],
          "sizemode": "area",
          "sizeref": 3.4655555555555555,
          "symbol": "circle"
         },
         "mode": "markers",
         "name": "GHANA",
         "showlegend": true,
         "type": "scattergeo"
        },
        {
         "geo": "geo",
         "hovertemplate": "<b>%{hovertext}</b><br><br>country=%{location}<br>amount=%{marker.size}<extra></extra>",
         "hovertext": [
          "NICARAGUA"
         ],
         "legendgroup": "NICARAGUA",
         "locationmode": "country names",
         "locations": [
          "NICARAGUA"
         ],
         "marker": {
          "color": "#FF97FF",
          "size": [
           11
          ],
          "sizemode": "area",
          "sizeref": 3.4655555555555555,
          "symbol": "circle"
         },
         "mode": "markers",
         "name": "NICARAGUA",
         "showlegend": true,
         "type": "scattergeo"
        },
        {
         "geo": "geo",
         "hovertemplate": "<b>%{hovertext}</b><br><br>country=%{location}<br>amount=%{marker.size}<extra></extra>",
         "hovertext": [
          "ANGOLA"
         ],
         "legendgroup": "ANGOLA",
         "locationmode": "country names",
         "locations": [
          "ANGOLA"
         ],
         "marker": {
          "color": "#FECB52",
          "size": [
           10
          ],
          "sizemode": "area",
          "sizeref": 3.4655555555555555,
          "symbol": "circle"
         },
         "mode": "markers",
         "name": "ANGOLA",
         "showlegend": true,
         "type": "scattergeo"
        },
        {
         "geo": "geo",
         "hovertemplate": "<b>%{hovertext}</b><br><br>country=%{location}<br>amount=%{marker.size}<extra></extra>",
         "hovertext": [
          "AUSTRALIA"
         ],
         "legendgroup": "AUSTRALIA",
         "locationmode": "country names",
         "locations": [
          "AUSTRALIA"
         ],
         "marker": {
          "color": "#636efa",
          "size": [
           10
          ],
          "sizemode": "area",
          "sizeref": 3.4655555555555555,
          "symbol": "circle"
         },
         "mode": "markers",
         "name": "AUSTRALIA",
         "showlegend": true,
         "type": "scattergeo"
        },
        {
         "geo": "geo",
         "hovertemplate": "<b>%{hovertext}</b><br><br>country=%{location}<br>amount=%{marker.size}<extra></extra>",
         "hovertext": [
          "JAPAN"
         ],
         "legendgroup": "JAPAN",
         "locationmode": "country names",
         "locations": [
          "JAPAN"
         ],
         "marker": {
          "color": "#EF553B",
          "size": [
           9
          ],
          "sizemode": "area",
          "sizeref": 3.4655555555555555,
          "symbol": "circle"
         },
         "mode": "markers",
         "name": "JAPAN",
         "showlegend": true,
         "type": "scattergeo"
        },
        {
         "geo": "geo",
         "hovertemplate": "<b>%{hovertext}</b><br><br>country=%{location}<br>amount=%{marker.size}<extra></extra>",
         "hovertext": [
          "ITALY"
         ],
         "legendgroup": "ITALY",
         "locationmode": "country names",
         "locations": [
          "ITALY"
         ],
         "marker": {
          "color": "#00cc96",
          "size": [
           7
          ],
          "sizemode": "area",
          "sizeref": 3.4655555555555555,
          "symbol": "circle"
         },
         "mode": "markers",
         "name": "ITALY",
         "showlegend": true,
         "type": "scattergeo"
        },
        {
         "geo": "geo",
         "hovertemplate": "<b>%{hovertext}</b><br><br>country=%{location}<br>amount=%{marker.size}<extra></extra>",
         "hovertext": [
          "ISRAEL"
         ],
         "legendgroup": "ISRAEL",
         "locationmode": "country names",
         "locations": [
          "ISRAEL"
         ],
         "marker": {
          "color": "#ab63fa",
          "size": [
           7
          ],
          "sizemode": "area",
          "sizeref": 3.4655555555555555,
          "symbol": "circle"
         },
         "mode": "markers",
         "name": "ISRAEL",
         "showlegend": true,
         "type": "scattergeo"
        },
        {
         "geo": "geo",
         "hovertemplate": "<b>%{hovertext}</b><br><br>country=%{location}<br>amount=%{marker.size}<extra></extra>",
         "hovertext": [
          "GERMANY"
         ],
         "legendgroup": "GERMANY",
         "locationmode": "country names",
         "locations": [
          "GERMANY"
         ],
         "marker": {
          "color": "#FFA15A",
          "size": [
           7
          ],
          "sizemode": "area",
          "sizeref": 3.4655555555555555,
          "symbol": "circle"
         },
         "mode": "markers",
         "name": "GERMANY",
         "showlegend": true,
         "type": "scattergeo"
        },
        {
         "geo": "geo",
         "hovertemplate": "<b>%{hovertext}</b><br><br>country=%{location}<br>amount=%{marker.size}<extra></extra>",
         "hovertext": [
          "CHINA"
         ],
         "legendgroup": "CHINA",
         "locationmode": "country names",
         "locations": [
          "CHINA"
         ],
         "marker": {
          "color": "#19d3f3",
          "size": [
           6
          ],
          "sizemode": "area",
          "sizeref": 3.4655555555555555,
          "symbol": "circle"
         },
         "mode": "markers",
         "name": "CHINA",
         "showlegend": true,
         "type": "scattergeo"
        },
        {
         "geo": "geo",
         "hovertemplate": "<b>%{hovertext}</b><br><br>country=%{location}<br>amount=%{marker.size}<extra></extra>",
         "hovertext": [
          "NEPAL"
         ],
         "legendgroup": "NEPAL",
         "locationmode": "country names",
         "locations": [
          "NEPAL"
         ],
         "marker": {
          "color": "#FF6692",
          "size": [
           6
          ],
          "sizemode": "area",
          "sizeref": 3.4655555555555555,
          "symbol": "circle"
         },
         "mode": "markers",
         "name": "NEPAL",
         "showlegend": true,
         "type": "scattergeo"
        },
        {
         "geo": "geo",
         "hovertemplate": "<b>%{hovertext}</b><br><br>country=%{location}<br>amount=%{marker.size}<extra></extra>",
         "hovertext": [
          "PAKISTAN"
         ],
         "legendgroup": "PAKISTAN",
         "locationmode": "country names",
         "locations": [
          "PAKISTAN"
         ],
         "marker": {
          "color": "#B6E880",
          "size": [
           5
          ],
          "sizemode": "area",
          "sizeref": 3.4655555555555555,
          "symbol": "circle"
         },
         "mode": "markers",
         "name": "PAKISTAN",
         "showlegend": true,
         "type": "scattergeo"
        },
        {
         "geo": "geo",
         "hovertemplate": "<b>%{hovertext}</b><br><br>country=%{location}<br>amount=%{marker.size}<extra></extra>",
         "hovertext": [
          "MONGOLIA"
         ],
         "legendgroup": "MONGOLIA",
         "locationmode": "country names",
         "locations": [
          "MONGOLIA"
         ],
         "marker": {
          "color": "#FF97FF",
          "size": [
           4
          ],
          "sizemode": "area",
          "sizeref": 3.4655555555555555,
          "symbol": "circle"
         },
         "mode": "markers",
         "name": "MONGOLIA",
         "showlegend": true,
         "type": "scattergeo"
        },
        {
         "geo": "geo",
         "hovertemplate": "<b>%{hovertext}</b><br><br>country=%{location}<br>amount=%{marker.size}<extra></extra>",
         "hovertext": [
          "CHILE"
         ],
         "legendgroup": "CHILE",
         "locationmode": "country names",
         "locations": [
          "CHILE"
         ],
         "marker": {
          "color": "#FECB52",
          "size": [
           4
          ],
          "sizemode": "area",
          "sizeref": 3.4655555555555555,
          "symbol": "circle"
         },
         "mode": "markers",
         "name": "CHILE",
         "showlegend": true,
         "type": "scattergeo"
        },
        {
         "geo": "geo",
         "hovertemplate": "<b>%{hovertext}</b><br><br>country=%{location}<br>amount=%{marker.size}<extra></extra>",
         "hovertext": [
          "SOUTH AFRICA"
         ],
         "legendgroup": "SOUTH AFRICA",
         "locationmode": "country names",
         "locations": [
          "SOUTH AFRICA"
         ],
         "marker": {
          "color": "#636efa",
          "size": [
           3
          ],
          "sizemode": "area",
          "sizeref": 3.4655555555555555,
          "symbol": "circle"
         },
         "mode": "markers",
         "name": "SOUTH AFRICA",
         "showlegend": true,
         "type": "scattergeo"
        },
        {
         "geo": "geo",
         "hovertemplate": "<b>%{hovertext}</b><br><br>country=%{location}<br>amount=%{marker.size}<extra></extra>",
         "hovertext": [
          "LAOS"
         ],
         "legendgroup": "LAOS",
         "locationmode": "country names",
         "locations": [
          "LAOS"
         ],
         "marker": {
          "color": "#EF553B",
          "size": [
           3
          ],
          "sizemode": "area",
          "sizeref": 3.4655555555555555,
          "symbol": "circle"
         },
         "mode": "markers",
         "name": "LAOS",
         "showlegend": true,
         "type": "scattergeo"
        },
        {
         "geo": "geo",
         "hovertemplate": "<b>%{hovertext}</b><br><br>country=%{location}<br>amount=%{marker.size}<extra></extra>",
         "hovertext": [
          "ARGENTINA"
         ],
         "legendgroup": "ARGENTINA",
         "locationmode": "country names",
         "locations": [
          "ARGENTINA"
         ],
         "marker": {
          "color": "#00cc96",
          "size": [
           3
          ],
          "sizemode": "area",
          "sizeref": 3.4655555555555555,
          "symbol": "circle"
         },
         "mode": "markers",
         "name": "ARGENTINA",
         "showlegend": true,
         "type": "scattergeo"
        },
        {
         "geo": "geo",
         "hovertemplate": "<b>%{hovertext}</b><br><br>country=%{location}<br>amount=%{marker.size}<extra></extra>",
         "hovertext": [
          "EL SALVADOR"
         ],
         "legendgroup": "EL SALVADOR",
         "locationmode": "country names",
         "locations": [
          "EL SALVADOR"
         ],
         "marker": {
          "color": "#ab63fa",
          "size": [
           3
          ],
          "sizemode": "area",
          "sizeref": 3.4655555555555555,
          "symbol": "circle"
         },
         "mode": "markers",
         "name": "EL SALVADOR",
         "showlegend": true,
         "type": "scattergeo"
        },
        {
         "geo": "geo",
         "hovertemplate": "<b>%{hovertext}</b><br><br>country=%{location}<br>amount=%{marker.size}<extra></extra>",
         "hovertext": [
          "CURACAO"
         ],
         "legendgroup": "CURACAO",
         "locationmode": "country names",
         "locations": [
          "CURACAO"
         ],
         "marker": {
          "color": "#FFA15A",
          "size": [
           3
          ],
          "sizemode": "area",
          "sizeref": 3.4655555555555555,
          "symbol": "circle"
         },
         "mode": "markers",
         "name": "CURACAO",
         "showlegend": true,
         "type": "scattergeo"
        },
        {
         "geo": "geo",
         "hovertemplate": "<b>%{hovertext}</b><br><br>country=%{location}<br>amount=%{marker.size}<extra></extra>",
         "hovertext": [
          "CUBA"
         ],
         "legendgroup": "CUBA",
         "locationmode": "country names",
         "locations": [
          "CUBA"
         ],
         "marker": {
          "color": "#19d3f3",
          "size": [
           3
          ],
          "sizemode": "area",
          "sizeref": 3.4655555555555555,
          "symbol": "circle"
         },
         "mode": "markers",
         "name": "CUBA",
         "showlegend": true,
         "type": "scattergeo"
        },
        {
         "geo": "geo",
         "hovertemplate": "<b>%{hovertext}</b><br><br>country=%{location}<br>amount=%{marker.size}<extra></extra>",
         "hovertext": [
          "NETHERLANDS"
         ],
         "legendgroup": "NETHERLANDS",
         "locationmode": "country names",
         "locations": [
          "NETHERLANDS"
         ],
         "marker": {
          "color": "#FF6692",
          "size": [
           2
          ],
          "sizemode": "area",
          "sizeref": 3.4655555555555555,
          "symbol": "circle"
         },
         "mode": "markers",
         "name": "NETHERLANDS",
         "showlegend": true,
         "type": "scattergeo"
        },
        {
         "geo": "geo",
         "hovertemplate": "<b>%{hovertext}</b><br><br>country=%{location}<br>amount=%{marker.size}<extra></extra>",
         "hovertext": [
          "BANGLADESH"
         ],
         "legendgroup": "BANGLADESH",
         "locationmode": "country names",
         "locations": [
          "BANGLADESH"
         ],
         "marker": {
          "color": "#B6E880",
          "size": [
           2
          ],
          "sizemode": "area",
          "sizeref": 3.4655555555555555,
          "symbol": "circle"
         },
         "mode": "markers",
         "name": "BANGLADESH",
         "showlegend": true,
         "type": "scattergeo"
        },
        {
         "geo": "geo",
         "hovertemplate": "<b>%{hovertext}</b><br><br>country=%{location}<br>amount=%{marker.size}<extra></extra>",
         "hovertext": [
          "FRANCE"
         ],
         "legendgroup": "FRANCE",
         "locationmode": "country names",
         "locations": [
          "FRANCE"
         ],
         "marker": {
          "color": "#FF97FF",
          "size": [
           2
          ],
          "sizemode": "area",
          "sizeref": 3.4655555555555555,
          "symbol": "circle"
         },
         "mode": "markers",
         "name": "FRANCE",
         "showlegend": true,
         "type": "scattergeo"
        },
        {
         "geo": "geo",
         "hovertemplate": "<b>%{hovertext}</b><br><br>country=%{location}<br>amount=%{marker.size}<extra></extra>",
         "hovertext": [
          "DOMINICAN REPUBLIC"
         ],
         "legendgroup": "DOMINICAN REPUBLIC",
         "locationmode": "country names",
         "locations": [
          "DOMINICAN REPUBLIC"
         ],
         "marker": {
          "color": "#FECB52",
          "size": [
           2
          ],
          "sizemode": "area",
          "sizeref": 3.4655555555555555,
          "symbol": "circle"
         },
         "mode": "markers",
         "name": "DOMINICAN REPUBLIC",
         "showlegend": true,
         "type": "scattergeo"
        },
        {
         "geo": "geo",
         "hovertemplate": "<b>%{hovertext}</b><br><br>country=%{location}<br>amount=%{marker.size}<extra></extra>",
         "hovertext": [
          "POLAND"
         ],
         "legendgroup": "POLAND",
         "locationmode": "country names",
         "locations": [
          "POLAND"
         ],
         "marker": {
          "color": "#636efa",
          "size": [
           2
          ],
          "sizemode": "area",
          "sizeref": 3.4655555555555555,
          "symbol": "circle"
         },
         "mode": "markers",
         "name": "POLAND",
         "showlegend": true,
         "type": "scattergeo"
        },
        {
         "geo": "geo",
         "hovertemplate": "<b>%{hovertext}</b><br><br>country=%{location}<br>amount=%{marker.size}<extra></extra>",
         "hovertext": [
          "UNITED KINGDOM"
         ],
         "legendgroup": "UNITED KINGDOM",
         "locationmode": "country names",
         "locations": [
          "UNITED KINGDOM"
         ],
         "marker": {
          "color": "#EF553B",
          "size": [
           2
          ],
          "sizemode": "area",
          "sizeref": 3.4655555555555555,
          "symbol": "circle"
         },
         "mode": "markers",
         "name": "UNITED KINGDOM",
         "showlegend": true,
         "type": "scattergeo"
        },
        {
         "geo": "geo",
         "hovertemplate": "<b>%{hovertext}</b><br><br>country=%{location}<br>amount=%{marker.size}<extra></extra>",
         "hovertext": [
          "SINGAPORE"
         ],
         "legendgroup": "SINGAPORE",
         "locationmode": "country names",
         "locations": [
          "SINGAPORE"
         ],
         "marker": {
          "color": "#00cc96",
          "size": [
           2
          ],
          "sizemode": "area",
          "sizeref": 3.4655555555555555,
          "symbol": "circle"
         },
         "mode": "markers",
         "name": "SINGAPORE",
         "showlegend": true,
         "type": "scattergeo"
        },
        {
         "geo": "geo",
         "hovertemplate": "<b>%{hovertext}</b><br><br>country=%{location}<br>amount=%{marker.size}<extra></extra>",
         "hovertext": [
          "CANADA"
         ],
         "legendgroup": "CANADA",
         "locationmode": "country names",
         "locations": [
          "CANADA"
         ],
         "marker": {
          "color": "#ab63fa",
          "size": [
           2
          ],
          "sizemode": "area",
          "sizeref": 3.4655555555555555,
          "symbol": "circle"
         },
         "mode": "markers",
         "name": "CANADA",
         "showlegend": true,
         "type": "scattergeo"
        },
        {
         "geo": "geo",
         "hovertemplate": "<b>%{hovertext}</b><br><br>country=%{location}<br>amount=%{marker.size}<extra></extra>",
         "hovertext": [
          "SRI LANKA"
         ],
         "legendgroup": "SRI LANKA",
         "locationmode": "country names",
         "locations": [
          "SRI LANKA"
         ],
         "marker": {
          "color": "#FFA15A",
          "size": [
           2
          ],
          "sizemode": "area",
          "sizeref": 3.4655555555555555,
          "symbol": "circle"
         },
         "mode": "markers",
         "name": "SRI LANKA",
         "showlegend": true,
         "type": "scattergeo"
        },
        {
         "geo": "geo",
         "hovertemplate": "<b>%{hovertext}</b><br><br>country=%{location}<br>amount=%{marker.size}<extra></extra>",
         "hovertext": [
          "TURKEY"
         ],
         "legendgroup": "TURKEY",
         "locationmode": "country names",
         "locations": [
          "TURKEY"
         ],
         "marker": {
          "color": "#19d3f3",
          "size": [
           1
          ],
          "sizemode": "area",
          "sizeref": 3.4655555555555555,
          "symbol": "circle"
         },
         "mode": "markers",
         "name": "TURKEY",
         "showlegend": true,
         "type": "scattergeo"
        },
        {
         "geo": "geo",
         "hovertemplate": "<b>%{hovertext}</b><br><br>country=%{location}<br>amount=%{marker.size}<extra></extra>",
         "hovertext": [
          "CHAD"
         ],
         "legendgroup": "CHAD",
         "locationmode": "country names",
         "locations": [
          "CHAD"
         ],
         "marker": {
          "color": "#FF6692",
          "size": [
           1
          ],
          "sizemode": "area",
          "sizeref": 3.4655555555555555,
          "symbol": "circle"
         },
         "mode": "markers",
         "name": "CHAD",
         "showlegend": true,
         "type": "scattergeo"
        },
        {
         "geo": "geo",
         "hovertemplate": "<b>%{hovertext}</b><br><br>country=%{location}<br>amount=%{marker.size}<extra></extra>",
         "hovertext": [
          "SOMALIA"
         ],
         "legendgroup": "SOMALIA",
         "locationmode": "country names",
         "locations": [
          "SOMALIA"
         ],
         "marker": {
          "color": "#B6E880",
          "size": [
           1
          ],
          "sizemode": "area",
          "sizeref": 3.4655555555555555,
          "symbol": "circle"
         },
         "mode": "markers",
         "name": "SOMALIA",
         "showlegend": true,
         "type": "scattergeo"
        },
        {
         "geo": "geo",
         "hovertemplate": "<b>%{hovertext}</b><br><br>country=%{location}<br>amount=%{marker.size}<extra></extra>",
         "hovertext": [
          "CZECH REPUBLIC"
         ],
         "legendgroup": "CZECH REPUBLIC",
         "locationmode": "country names",
         "locations": [
          "CZECH REPUBLIC"
         ],
         "marker": {
          "color": "#FF97FF",
          "size": [
           1
          ],
          "sizemode": "area",
          "sizeref": 3.4655555555555555,
          "symbol": "circle"
         },
         "mode": "markers",
         "name": "CZECH REPUBLIC",
         "showlegend": true,
         "type": "scattergeo"
        },
        {
         "geo": "geo",
         "hovertemplate": "<b>%{hovertext}</b><br><br>country=%{location}<br>amount=%{marker.size}<extra></extra>",
         "hovertext": [
          "OMAN"
         ],
         "legendgroup": "OMAN",
         "locationmode": "country names",
         "locations": [
          "OMAN"
         ],
         "marker": {
          "color": "#FECB52",
          "size": [
           1
          ],
          "sizemode": "area",
          "sizeref": 3.4655555555555555,
          "symbol": "circle"
         },
         "mode": "markers",
         "name": "OMAN",
         "showlegend": true,
         "type": "scattergeo"
        },
        {
         "geo": "geo",
         "hovertemplate": "<b>%{hovertext}</b><br><br>country=%{location}<br>amount=%{marker.size}<extra></extra>",
         "hovertext": [
          "DENMARK"
         ],
         "legendgroup": "DENMARK",
         "locationmode": "country names",
         "locations": [
          "DENMARK"
         ],
         "marker": {
          "color": "#636efa",
          "size": [
           1
          ],
          "sizemode": "area",
          "sizeref": 3.4655555555555555,
          "symbol": "circle"
         },
         "mode": "markers",
         "name": "DENMARK",
         "showlegend": true,
         "type": "scattergeo"
        },
        {
         "geo": "geo",
         "hovertemplate": "<b>%{hovertext}</b><br><br>country=%{location}<br>amount=%{marker.size}<extra></extra>",
         "hovertext": [
          "MALI"
         ],
         "legendgroup": "MALI",
         "locationmode": "country names",
         "locations": [
          "MALI"
         ],
         "marker": {
          "color": "#EF553B",
          "size": [
           1
          ],
          "sizemode": "area",
          "sizeref": 3.4655555555555555,
          "symbol": "circle"
         },
         "mode": "markers",
         "name": "MALI",
         "showlegend": true,
         "type": "scattergeo"
        },
        {
         "geo": "geo",
         "hovertemplate": "<b>%{hovertext}</b><br><br>country=%{location}<br>amount=%{marker.size}<extra></extra>",
         "hovertext": [
          "ZIMBABWE"
         ],
         "legendgroup": "ZIMBABWE",
         "locationmode": "country names",
         "locations": [
          "ZIMBABWE"
         ],
         "marker": {
          "color": "#00cc96",
          "size": [
           1
          ],
          "sizemode": "area",
          "sizeref": 3.4655555555555555,
          "symbol": "circle"
         },
         "mode": "markers",
         "name": "ZIMBABWE",
         "showlegend": true,
         "type": "scattergeo"
        }
       ],
       "layout": {
        "geo": {
         "center": {},
         "domain": {
          "x": [
           0,
           1
          ],
          "y": [
           0,
           1
          ]
         },
         "projection": {
          "type": "equirectangular"
         },
         "showcoastlines": false,
         "showframe": false
        },
        "legend": {
         "itemsizing": "constant",
         "title": {
          "text": "country"
         },
         "tracegroupgap": 0
        },
        "margin": {
         "b": 1,
         "l": 1,
         "r": 1,
         "t": 1
        },
        "showlegend": false,
        "template": {
         "data": {
          "bar": [
           {
            "error_x": {
             "color": "#2a3f5f"
            },
            "error_y": {
             "color": "#2a3f5f"
            },
            "marker": {
             "line": {
              "color": "#E5ECF6",
              "width": 0.5
             },
             "pattern": {
              "fillmode": "overlay",
              "size": 10,
              "solidity": 0.2
             }
            },
            "type": "bar"
           }
          ],
          "barpolar": [
           {
            "marker": {
             "line": {
              "color": "#E5ECF6",
              "width": 0.5
             },
             "pattern": {
              "fillmode": "overlay",
              "size": 10,
              "solidity": 0.2
             }
            },
            "type": "barpolar"
           }
          ],
          "carpet": [
           {
            "aaxis": {
             "endlinecolor": "#2a3f5f",
             "gridcolor": "white",
             "linecolor": "white",
             "minorgridcolor": "white",
             "startlinecolor": "#2a3f5f"
            },
            "baxis": {
             "endlinecolor": "#2a3f5f",
             "gridcolor": "white",
             "linecolor": "white",
             "minorgridcolor": "white",
             "startlinecolor": "#2a3f5f"
            },
            "type": "carpet"
           }
          ],
          "choropleth": [
           {
            "colorbar": {
             "outlinewidth": 0,
             "ticks": ""
            },
            "type": "choropleth"
           }
          ],
          "contour": [
           {
            "colorbar": {
             "outlinewidth": 0,
             "ticks": ""
            },
            "colorscale": [
             [
              0,
              "#0d0887"
             ],
             [
              0.1111111111111111,
              "#46039f"
             ],
             [
              0.2222222222222222,
              "#7201a8"
             ],
             [
              0.3333333333333333,
              "#9c179e"
             ],
             [
              0.4444444444444444,
              "#bd3786"
             ],
             [
              0.5555555555555556,
              "#d8576b"
             ],
             [
              0.6666666666666666,
              "#ed7953"
             ],
             [
              0.7777777777777778,
              "#fb9f3a"
             ],
             [
              0.8888888888888888,
              "#fdca26"
             ],
             [
              1,
              "#f0f921"
             ]
            ],
            "type": "contour"
           }
          ],
          "contourcarpet": [
           {
            "colorbar": {
             "outlinewidth": 0,
             "ticks": ""
            },
            "type": "contourcarpet"
           }
          ],
          "heatmap": [
           {
            "colorbar": {
             "outlinewidth": 0,
             "ticks": ""
            },
            "colorscale": [
             [
              0,
              "#0d0887"
             ],
             [
              0.1111111111111111,
              "#46039f"
             ],
             [
              0.2222222222222222,
              "#7201a8"
             ],
             [
              0.3333333333333333,
              "#9c179e"
             ],
             [
              0.4444444444444444,
              "#bd3786"
             ],
             [
              0.5555555555555556,
              "#d8576b"
             ],
             [
              0.6666666666666666,
              "#ed7953"
             ],
             [
              0.7777777777777778,
              "#fb9f3a"
             ],
             [
              0.8888888888888888,
              "#fdca26"
             ],
             [
              1,
              "#f0f921"
             ]
            ],
            "type": "heatmap"
           }
          ],
          "heatmapgl": [
           {
            "colorbar": {
             "outlinewidth": 0,
             "ticks": ""
            },
            "colorscale": [
             [
              0,
              "#0d0887"
             ],
             [
              0.1111111111111111,
              "#46039f"
             ],
             [
              0.2222222222222222,
              "#7201a8"
             ],
             [
              0.3333333333333333,
              "#9c179e"
             ],
             [
              0.4444444444444444,
              "#bd3786"
             ],
             [
              0.5555555555555556,
              "#d8576b"
             ],
             [
              0.6666666666666666,
              "#ed7953"
             ],
             [
              0.7777777777777778,
              "#fb9f3a"
             ],
             [
              0.8888888888888888,
              "#fdca26"
             ],
             [
              1,
              "#f0f921"
             ]
            ],
            "type": "heatmapgl"
           }
          ],
          "histogram": [
           {
            "marker": {
             "pattern": {
              "fillmode": "overlay",
              "size": 10,
              "solidity": 0.2
             }
            },
            "type": "histogram"
           }
          ],
          "histogram2d": [
           {
            "colorbar": {
             "outlinewidth": 0,
             "ticks": ""
            },
            "colorscale": [
             [
              0,
              "#0d0887"
             ],
             [
              0.1111111111111111,
              "#46039f"
             ],
             [
              0.2222222222222222,
              "#7201a8"
             ],
             [
              0.3333333333333333,
              "#9c179e"
             ],
             [
              0.4444444444444444,
              "#bd3786"
             ],
             [
              0.5555555555555556,
              "#d8576b"
             ],
             [
              0.6666666666666666,
              "#ed7953"
             ],
             [
              0.7777777777777778,
              "#fb9f3a"
             ],
             [
              0.8888888888888888,
              "#fdca26"
             ],
             [
              1,
              "#f0f921"
             ]
            ],
            "type": "histogram2d"
           }
          ],
          "histogram2dcontour": [
           {
            "colorbar": {
             "outlinewidth": 0,
             "ticks": ""
            },
            "colorscale": [
             [
              0,
              "#0d0887"
             ],
             [
              0.1111111111111111,
              "#46039f"
             ],
             [
              0.2222222222222222,
              "#7201a8"
             ],
             [
              0.3333333333333333,
              "#9c179e"
             ],
             [
              0.4444444444444444,
              "#bd3786"
             ],
             [
              0.5555555555555556,
              "#d8576b"
             ],
             [
              0.6666666666666666,
              "#ed7953"
             ],
             [
              0.7777777777777778,
              "#fb9f3a"
             ],
             [
              0.8888888888888888,
              "#fdca26"
             ],
             [
              1,
              "#f0f921"
             ]
            ],
            "type": "histogram2dcontour"
           }
          ],
          "mesh3d": [
           {
            "colorbar": {
             "outlinewidth": 0,
             "ticks": ""
            },
            "type": "mesh3d"
           }
          ],
          "parcoords": [
           {
            "line": {
             "colorbar": {
              "outlinewidth": 0,
              "ticks": ""
             }
            },
            "type": "parcoords"
           }
          ],
          "pie": [
           {
            "automargin": true,
            "type": "pie"
           }
          ],
          "scatter": [
           {
            "fillpattern": {
             "fillmode": "overlay",
             "size": 10,
             "solidity": 0.2
            },
            "type": "scatter"
           }
          ],
          "scatter3d": [
           {
            "line": {
             "colorbar": {
              "outlinewidth": 0,
              "ticks": ""
             }
            },
            "marker": {
             "colorbar": {
              "outlinewidth": 0,
              "ticks": ""
             }
            },
            "type": "scatter3d"
           }
          ],
          "scattercarpet": [
           {
            "marker": {
             "colorbar": {
              "outlinewidth": 0,
              "ticks": ""
             }
            },
            "type": "scattercarpet"
           }
          ],
          "scattergeo": [
           {
            "marker": {
             "colorbar": {
              "outlinewidth": 0,
              "ticks": ""
             }
            },
            "type": "scattergeo"
           }
          ],
          "scattergl": [
           {
            "marker": {
             "colorbar": {
              "outlinewidth": 0,
              "ticks": ""
             }
            },
            "type": "scattergl"
           }
          ],
          "scattermapbox": [
           {
            "marker": {
             "colorbar": {
              "outlinewidth": 0,
              "ticks": ""
             }
            },
            "type": "scattermapbox"
           }
          ],
          "scatterpolar": [
           {
            "marker": {
             "colorbar": {
              "outlinewidth": 0,
              "ticks": ""
             }
            },
            "type": "scatterpolar"
           }
          ],
          "scatterpolargl": [
           {
            "marker": {
             "colorbar": {
              "outlinewidth": 0,
              "ticks": ""
             }
            },
            "type": "scatterpolargl"
           }
          ],
          "scatterternary": [
           {
            "marker": {
             "colorbar": {
              "outlinewidth": 0,
              "ticks": ""
             }
            },
            "type": "scatterternary"
           }
          ],
          "surface": [
           {
            "colorbar": {
             "outlinewidth": 0,
             "ticks": ""
            },
            "colorscale": [
             [
              0,
              "#0d0887"
             ],
             [
              0.1111111111111111,
              "#46039f"
             ],
             [
              0.2222222222222222,
              "#7201a8"
             ],
             [
              0.3333333333333333,
              "#9c179e"
             ],
             [
              0.4444444444444444,
              "#bd3786"
             ],
             [
              0.5555555555555556,
              "#d8576b"
             ],
             [
              0.6666666666666666,
              "#ed7953"
             ],
             [
              0.7777777777777778,
              "#fb9f3a"
             ],
             [
              0.8888888888888888,
              "#fdca26"
             ],
             [
              1,
              "#f0f921"
             ]
            ],
            "type": "surface"
           }
          ],
          "table": [
           {
            "cells": {
             "fill": {
              "color": "#EBF0F8"
             },
             "line": {
              "color": "white"
             }
            },
            "header": {
             "fill": {
              "color": "#C8D4E3"
             },
             "line": {
              "color": "white"
             }
            },
            "type": "table"
           }
          ]
         },
         "layout": {
          "annotationdefaults": {
           "arrowcolor": "#2a3f5f",
           "arrowhead": 0,
           "arrowwidth": 1
          },
          "autotypenumbers": "strict",
          "coloraxis": {
           "colorbar": {
            "outlinewidth": 0,
            "ticks": ""
           }
          },
          "colorscale": {
           "diverging": [
            [
             0,
             "#8e0152"
            ],
            [
             0.1,
             "#c51b7d"
            ],
            [
             0.2,
             "#de77ae"
            ],
            [
             0.3,
             "#f1b6da"
            ],
            [
             0.4,
             "#fde0ef"
            ],
            [
             0.5,
             "#f7f7f7"
            ],
            [
             0.6,
             "#e6f5d0"
            ],
            [
             0.7,
             "#b8e186"
            ],
            [
             0.8,
             "#7fbc41"
            ],
            [
             0.9,
             "#4d9221"
            ],
            [
             1,
             "#276419"
            ]
           ],
           "sequential": [
            [
             0,
             "#0d0887"
            ],
            [
             0.1111111111111111,
             "#46039f"
            ],
            [
             0.2222222222222222,
             "#7201a8"
            ],
            [
             0.3333333333333333,
             "#9c179e"
            ],
            [
             0.4444444444444444,
             "#bd3786"
            ],
            [
             0.5555555555555556,
             "#d8576b"
            ],
            [
             0.6666666666666666,
             "#ed7953"
            ],
            [
             0.7777777777777778,
             "#fb9f3a"
            ],
            [
             0.8888888888888888,
             "#fdca26"
            ],
            [
             1,
             "#f0f921"
            ]
           ],
           "sequentialminus": [
            [
             0,
             "#0d0887"
            ],
            [
             0.1111111111111111,
             "#46039f"
            ],
            [
             0.2222222222222222,
             "#7201a8"
            ],
            [
             0.3333333333333333,
             "#9c179e"
            ],
            [
             0.4444444444444444,
             "#bd3786"
            ],
            [
             0.5555555555555556,
             "#d8576b"
            ],
            [
             0.6666666666666666,
             "#ed7953"
            ],
            [
             0.7777777777777778,
             "#fb9f3a"
            ],
            [
             0.8888888888888888,
             "#fdca26"
            ],
            [
             1,
             "#f0f921"
            ]
           ]
          },
          "colorway": [
           "#636efa",
           "#EF553B",
           "#00cc96",
           "#ab63fa",
           "#FFA15A",
           "#19d3f3",
           "#FF6692",
           "#B6E880",
           "#FF97FF",
           "#FECB52"
          ],
          "font": {
           "color": "#2a3f5f"
          },
          "geo": {
           "bgcolor": "white",
           "lakecolor": "white",
           "landcolor": "#E5ECF6",
           "showlakes": true,
           "showland": true,
           "subunitcolor": "white"
          },
          "hoverlabel": {
           "align": "left"
          },
          "hovermode": "closest",
          "mapbox": {
           "style": "light"
          },
          "paper_bgcolor": "white",
          "plot_bgcolor": "#E5ECF6",
          "polar": {
           "angularaxis": {
            "gridcolor": "white",
            "linecolor": "white",
            "ticks": ""
           },
           "bgcolor": "#E5ECF6",
           "radialaxis": {
            "gridcolor": "white",
            "linecolor": "white",
            "ticks": ""
           }
          },
          "scene": {
           "xaxis": {
            "backgroundcolor": "#E5ECF6",
            "gridcolor": "white",
            "gridwidth": 2,
            "linecolor": "white",
            "showbackground": true,
            "ticks": "",
            "zerolinecolor": "white"
           },
           "yaxis": {
            "backgroundcolor": "#E5ECF6",
            "gridcolor": "white",
            "gridwidth": 2,
            "linecolor": "white",
            "showbackground": true,
            "ticks": "",
            "zerolinecolor": "white"
           },
           "zaxis": {
            "backgroundcolor": "#E5ECF6",
            "gridcolor": "white",
            "gridwidth": 2,
            "linecolor": "white",
            "showbackground": true,
            "ticks": "",
            "zerolinecolor": "white"
           }
          },
          "shapedefaults": {
           "line": {
            "color": "#2a3f5f"
           }
          },
          "ternary": {
           "aaxis": {
            "gridcolor": "white",
            "linecolor": "white",
            "ticks": ""
           },
           "baxis": {
            "gridcolor": "white",
            "linecolor": "white",
            "ticks": ""
           },
           "bgcolor": "#E5ECF6",
           "caxis": {
            "gridcolor": "white",
            "linecolor": "white",
            "ticks": ""
           }
          },
          "title": {
           "x": 0.05
          },
          "xaxis": {
           "automargin": true,
           "gridcolor": "white",
           "linecolor": "white",
           "ticks": "",
           "title": {
            "standoff": 15
           },
           "zerolinecolor": "white",
           "zerolinewidth": 2
          },
          "yaxis": {
           "automargin": true,
           "gridcolor": "white",
           "linecolor": "white",
           "ticks": "",
           "title": {
            "standoff": 15
           },
           "zerolinecolor": "white",
           "zerolinewidth": 2
          }
         }
        }
       }
      }
     },
     "metadata": {},
     "output_type": "display_data"
    }
   ],
   "source": [
    "# bubble maps\n",
    "fig_map = px.scatter_geo(df_country, locations=\"country\", locationmode='country names', color=\"country\", size=\"amount\", hover_name=\"country\", size_max=60, projection=\"natural earth\")\n",
    "fig_map.update_layout(showlegend=False, \n",
    "geo=dict(showframe=False, showcoastlines=False, projection_type='equirectangular'))\n",
    "fig_map.update_layout(margin=dict(l=1, r=1, t=1, b=1))"
   ]
  },
  {
   "cell_type": "code",
   "execution_count": 6,
   "metadata": {},
   "outputs": [
    {
     "data": {
      "application/vnd.plotly.v1+json": {
       "config": {
        "plotlyServerURL": "https://plot.ly"
       },
       "data": [
        {
         "name": "Amount",
         "type": "bar",
         "x": [
          "PUERTO RICO",
          "COLOMBIA",
          "MEXICO",
          "MYANMAR",
          "VIETNAM",
          "PHILIPPINES",
          "INDONESIA",
          "BRAZIL",
          "CAMBODIA",
          "THAILAND"
         ],
         "xaxis": "x",
         "y": [
          140,
          189,
          207,
          610,
          1414,
          1807,
          3723,
          4360,
          5266,
          12476
         ],
         "yaxis": "y"
        }
       ],
       "layout": {
        "margin": {
         "b": 50,
         "l": 50,
         "r": 50,
         "t": 50
        },
        "template": {
         "data": {
          "bar": [
           {
            "error_x": {
             "color": "#2a3f5f"
            },
            "error_y": {
             "color": "#2a3f5f"
            },
            "marker": {
             "line": {
              "color": "#E5ECF6",
              "width": 0.5
             },
             "pattern": {
              "fillmode": "overlay",
              "size": 10,
              "solidity": 0.2
             }
            },
            "type": "bar"
           }
          ],
          "barpolar": [
           {
            "marker": {
             "line": {
              "color": "#E5ECF6",
              "width": 0.5
             },
             "pattern": {
              "fillmode": "overlay",
              "size": 10,
              "solidity": 0.2
             }
            },
            "type": "barpolar"
           }
          ],
          "carpet": [
           {
            "aaxis": {
             "endlinecolor": "#2a3f5f",
             "gridcolor": "white",
             "linecolor": "white",
             "minorgridcolor": "white",
             "startlinecolor": "#2a3f5f"
            },
            "baxis": {
             "endlinecolor": "#2a3f5f",
             "gridcolor": "white",
             "linecolor": "white",
             "minorgridcolor": "white",
             "startlinecolor": "#2a3f5f"
            },
            "type": "carpet"
           }
          ],
          "choropleth": [
           {
            "colorbar": {
             "outlinewidth": 0,
             "ticks": ""
            },
            "type": "choropleth"
           }
          ],
          "contour": [
           {
            "colorbar": {
             "outlinewidth": 0,
             "ticks": ""
            },
            "colorscale": [
             [
              0,
              "#0d0887"
             ],
             [
              0.1111111111111111,
              "#46039f"
             ],
             [
              0.2222222222222222,
              "#7201a8"
             ],
             [
              0.3333333333333333,
              "#9c179e"
             ],
             [
              0.4444444444444444,
              "#bd3786"
             ],
             [
              0.5555555555555556,
              "#d8576b"
             ],
             [
              0.6666666666666666,
              "#ed7953"
             ],
             [
              0.7777777777777778,
              "#fb9f3a"
             ],
             [
              0.8888888888888888,
              "#fdca26"
             ],
             [
              1,
              "#f0f921"
             ]
            ],
            "type": "contour"
           }
          ],
          "contourcarpet": [
           {
            "colorbar": {
             "outlinewidth": 0,
             "ticks": ""
            },
            "type": "contourcarpet"
           }
          ],
          "heatmap": [
           {
            "colorbar": {
             "outlinewidth": 0,
             "ticks": ""
            },
            "colorscale": [
             [
              0,
              "#0d0887"
             ],
             [
              0.1111111111111111,
              "#46039f"
             ],
             [
              0.2222222222222222,
              "#7201a8"
             ],
             [
              0.3333333333333333,
              "#9c179e"
             ],
             [
              0.4444444444444444,
              "#bd3786"
             ],
             [
              0.5555555555555556,
              "#d8576b"
             ],
             [
              0.6666666666666666,
              "#ed7953"
             ],
             [
              0.7777777777777778,
              "#fb9f3a"
             ],
             [
              0.8888888888888888,
              "#fdca26"
             ],
             [
              1,
              "#f0f921"
             ]
            ],
            "type": "heatmap"
           }
          ],
          "heatmapgl": [
           {
            "colorbar": {
             "outlinewidth": 0,
             "ticks": ""
            },
            "colorscale": [
             [
              0,
              "#0d0887"
             ],
             [
              0.1111111111111111,
              "#46039f"
             ],
             [
              0.2222222222222222,
              "#7201a8"
             ],
             [
              0.3333333333333333,
              "#9c179e"
             ],
             [
              0.4444444444444444,
              "#bd3786"
             ],
             [
              0.5555555555555556,
              "#d8576b"
             ],
             [
              0.6666666666666666,
              "#ed7953"
             ],
             [
              0.7777777777777778,
              "#fb9f3a"
             ],
             [
              0.8888888888888888,
              "#fdca26"
             ],
             [
              1,
              "#f0f921"
             ]
            ],
            "type": "heatmapgl"
           }
          ],
          "histogram": [
           {
            "marker": {
             "pattern": {
              "fillmode": "overlay",
              "size": 10,
              "solidity": 0.2
             }
            },
            "type": "histogram"
           }
          ],
          "histogram2d": [
           {
            "colorbar": {
             "outlinewidth": 0,
             "ticks": ""
            },
            "colorscale": [
             [
              0,
              "#0d0887"
             ],
             [
              0.1111111111111111,
              "#46039f"
             ],
             [
              0.2222222222222222,
              "#7201a8"
             ],
             [
              0.3333333333333333,
              "#9c179e"
             ],
             [
              0.4444444444444444,
              "#bd3786"
             ],
             [
              0.5555555555555556,
              "#d8576b"
             ],
             [
              0.6666666666666666,
              "#ed7953"
             ],
             [
              0.7777777777777778,
              "#fb9f3a"
             ],
             [
              0.8888888888888888,
              "#fdca26"
             ],
             [
              1,
              "#f0f921"
             ]
            ],
            "type": "histogram2d"
           }
          ],
          "histogram2dcontour": [
           {
            "colorbar": {
             "outlinewidth": 0,
             "ticks": ""
            },
            "colorscale": [
             [
              0,
              "#0d0887"
             ],
             [
              0.1111111111111111,
              "#46039f"
             ],
             [
              0.2222222222222222,
              "#7201a8"
             ],
             [
              0.3333333333333333,
              "#9c179e"
             ],
             [
              0.4444444444444444,
              "#bd3786"
             ],
             [
              0.5555555555555556,
              "#d8576b"
             ],
             [
              0.6666666666666666,
              "#ed7953"
             ],
             [
              0.7777777777777778,
              "#fb9f3a"
             ],
             [
              0.8888888888888888,
              "#fdca26"
             ],
             [
              1,
              "#f0f921"
             ]
            ],
            "type": "histogram2dcontour"
           }
          ],
          "mesh3d": [
           {
            "colorbar": {
             "outlinewidth": 0,
             "ticks": ""
            },
            "type": "mesh3d"
           }
          ],
          "parcoords": [
           {
            "line": {
             "colorbar": {
              "outlinewidth": 0,
              "ticks": ""
             }
            },
            "type": "parcoords"
           }
          ],
          "pie": [
           {
            "automargin": true,
            "type": "pie"
           }
          ],
          "scatter": [
           {
            "fillpattern": {
             "fillmode": "overlay",
             "size": 10,
             "solidity": 0.2
            },
            "type": "scatter"
           }
          ],
          "scatter3d": [
           {
            "line": {
             "colorbar": {
              "outlinewidth": 0,
              "ticks": ""
             }
            },
            "marker": {
             "colorbar": {
              "outlinewidth": 0,
              "ticks": ""
             }
            },
            "type": "scatter3d"
           }
          ],
          "scattercarpet": [
           {
            "marker": {
             "colorbar": {
              "outlinewidth": 0,
              "ticks": ""
             }
            },
            "type": "scattercarpet"
           }
          ],
          "scattergeo": [
           {
            "marker": {
             "colorbar": {
              "outlinewidth": 0,
              "ticks": ""
             }
            },
            "type": "scattergeo"
           }
          ],
          "scattergl": [
           {
            "marker": {
             "colorbar": {
              "outlinewidth": 0,
              "ticks": ""
             }
            },
            "type": "scattergl"
           }
          ],
          "scattermapbox": [
           {
            "marker": {
             "colorbar": {
              "outlinewidth": 0,
              "ticks": ""
             }
            },
            "type": "scattermapbox"
           }
          ],
          "scatterpolar": [
           {
            "marker": {
             "colorbar": {
              "outlinewidth": 0,
              "ticks": ""
             }
            },
            "type": "scatterpolar"
           }
          ],
          "scatterpolargl": [
           {
            "marker": {
             "colorbar": {
              "outlinewidth": 0,
              "ticks": ""
             }
            },
            "type": "scatterpolargl"
           }
          ],
          "scatterternary": [
           {
            "marker": {
             "colorbar": {
              "outlinewidth": 0,
              "ticks": ""
             }
            },
            "type": "scatterternary"
           }
          ],
          "surface": [
           {
            "colorbar": {
             "outlinewidth": 0,
             "ticks": ""
            },
            "colorscale": [
             [
              0,
              "#0d0887"
             ],
             [
              0.1111111111111111,
              "#46039f"
             ],
             [
              0.2222222222222222,
              "#7201a8"
             ],
             [
              0.3333333333333333,
              "#9c179e"
             ],
             [
              0.4444444444444444,
              "#bd3786"
             ],
             [
              0.5555555555555556,
              "#d8576b"
             ],
             [
              0.6666666666666666,
              "#ed7953"
             ],
             [
              0.7777777777777778,
              "#fb9f3a"
             ],
             [
              0.8888888888888888,
              "#fdca26"
             ],
             [
              1,
              "#f0f921"
             ]
            ],
            "type": "surface"
           }
          ],
          "table": [
           {
            "cells": {
             "fill": {
              "color": "#EBF0F8"
             },
             "line": {
              "color": "white"
             }
            },
            "header": {
             "fill": {
              "color": "#C8D4E3"
             },
             "line": {
              "color": "white"
             }
            },
            "type": "table"
           }
          ]
         },
         "layout": {
          "annotationdefaults": {
           "arrowcolor": "#2a3f5f",
           "arrowhead": 0,
           "arrowwidth": 1
          },
          "autotypenumbers": "strict",
          "coloraxis": {
           "colorbar": {
            "outlinewidth": 0,
            "ticks": ""
           }
          },
          "colorscale": {
           "diverging": [
            [
             0,
             "#8e0152"
            ],
            [
             0.1,
             "#c51b7d"
            ],
            [
             0.2,
             "#de77ae"
            ],
            [
             0.3,
             "#f1b6da"
            ],
            [
             0.4,
             "#fde0ef"
            ],
            [
             0.5,
             "#f7f7f7"
            ],
            [
             0.6,
             "#e6f5d0"
            ],
            [
             0.7,
             "#b8e186"
            ],
            [
             0.8,
             "#7fbc41"
            ],
            [
             0.9,
             "#4d9221"
            ],
            [
             1,
             "#276419"
            ]
           ],
           "sequential": [
            [
             0,
             "#0d0887"
            ],
            [
             0.1111111111111111,
             "#46039f"
            ],
            [
             0.2222222222222222,
             "#7201a8"
            ],
            [
             0.3333333333333333,
             "#9c179e"
            ],
            [
             0.4444444444444444,
             "#bd3786"
            ],
            [
             0.5555555555555556,
             "#d8576b"
            ],
            [
             0.6666666666666666,
             "#ed7953"
            ],
            [
             0.7777777777777778,
             "#fb9f3a"
            ],
            [
             0.8888888888888888,
             "#fdca26"
            ],
            [
             1,
             "#f0f921"
            ]
           ],
           "sequentialminus": [
            [
             0,
             "#0d0887"
            ],
            [
             0.1111111111111111,
             "#46039f"
            ],
            [
             0.2222222222222222,
             "#7201a8"
            ],
            [
             0.3333333333333333,
             "#9c179e"
            ],
            [
             0.4444444444444444,
             "#bd3786"
            ],
            [
             0.5555555555555556,
             "#d8576b"
            ],
            [
             0.6666666666666666,
             "#ed7953"
            ],
            [
             0.7777777777777778,
             "#fb9f3a"
            ],
            [
             0.8888888888888888,
             "#fdca26"
            ],
            [
             1,
             "#f0f921"
            ]
           ]
          },
          "colorway": [
           "#636efa",
           "#EF553B",
           "#00cc96",
           "#ab63fa",
           "#FFA15A",
           "#19d3f3",
           "#FF6692",
           "#B6E880",
           "#FF97FF",
           "#FECB52"
          ],
          "font": {
           "color": "#2a3f5f"
          },
          "geo": {
           "bgcolor": "white",
           "lakecolor": "white",
           "landcolor": "#E5ECF6",
           "showlakes": true,
           "showland": true,
           "subunitcolor": "white"
          },
          "hoverlabel": {
           "align": "left"
          },
          "hovermode": "closest",
          "mapbox": {
           "style": "light"
          },
          "paper_bgcolor": "white",
          "plot_bgcolor": "#E5ECF6",
          "polar": {
           "angularaxis": {
            "gridcolor": "white",
            "linecolor": "white",
            "ticks": ""
           },
           "bgcolor": "#E5ECF6",
           "radialaxis": {
            "gridcolor": "white",
            "linecolor": "white",
            "ticks": ""
           }
          },
          "scene": {
           "xaxis": {
            "backgroundcolor": "#E5ECF6",
            "gridcolor": "white",
            "gridwidth": 2,
            "linecolor": "white",
            "showbackground": true,
            "ticks": "",
            "zerolinecolor": "white"
           },
           "yaxis": {
            "backgroundcolor": "#E5ECF6",
            "gridcolor": "white",
            "gridwidth": 2,
            "linecolor": "white",
            "showbackground": true,
            "ticks": "",
            "zerolinecolor": "white"
           },
           "zaxis": {
            "backgroundcolor": "#E5ECF6",
            "gridcolor": "white",
            "gridwidth": 2,
            "linecolor": "white",
            "showbackground": true,
            "ticks": "",
            "zerolinecolor": "white"
           }
          },
          "shapedefaults": {
           "line": {
            "color": "#2a3f5f"
           }
          },
          "ternary": {
           "aaxis": {
            "gridcolor": "white",
            "linecolor": "white",
            "ticks": ""
           },
           "baxis": {
            "gridcolor": "white",
            "linecolor": "white",
            "ticks": ""
           },
           "bgcolor": "#E5ECF6",
           "caxis": {
            "gridcolor": "white",
            "linecolor": "white",
            "ticks": ""
           }
          },
          "title": {
           "x": 0.05
          },
          "xaxis": {
           "automargin": true,
           "gridcolor": "white",
           "linecolor": "white",
           "ticks": "",
           "title": {
            "standoff": 15
           },
           "zerolinecolor": "white",
           "zerolinewidth": 2
          },
          "yaxis": {
           "automargin": true,
           "gridcolor": "white",
           "linecolor": "white",
           "ticks": "",
           "title": {
            "standoff": 15
           },
           "zerolinecolor": "white",
           "zerolinewidth": 2
          }
         }
        },
        "xaxis": {
         "anchor": "y",
         "domain": [
          0,
          0.45
         ]
        },
        "xaxis2": {
         "anchor": "y2",
         "domain": [
          0.55,
          1
         ]
        },
        "yaxis": {
         "anchor": "x",
         "domain": [
          0,
          1
         ]
        },
        "yaxis2": {
         "anchor": "x2",
         "domain": [
          0,
          1
         ]
        }
       }
      }
     },
     "metadata": {},
     "output_type": "display_data"
    }
   ],
   "source": [
    "# top 10\n",
    "# top 10 countries bar chart\n",
    "df_top10_mgi = df_country.sort_values(by='amount', ascending=False).head(10)\n",
    "df_top10_mgi = df_top10_mgi.sort_values(by='amount', ascending=True)\n",
    "\n",
    "import plotly.graph_objects as go\n",
    "from plotly.subplots import make_subplots\n",
    "fig_top10 = make_subplots(rows=1, cols=2, specs=[[{\"type\": \"bar\"}, {\"type\": \"bar\"}]])\n",
    "\n",
    "fig_top10.add_trace(\n",
    "    go.Bar(x=df_top10_mgi['country'], y=df_top10_mgi['amount'], name='Amount'),\n",
    "    row=1, col=1\n",
    ")\n",
    "# change border of chart\n",
    "fig_top10.update_layout(\n",
    "    margin=dict(l=50, r=50, t=50, b=50),\n",
    ")"
   ]
  },
  {
   "cell_type": "code",
   "execution_count": 7,
   "metadata": {},
   "outputs": [
    {
     "data": {
      "text/html": [
       "<div>\n",
       "<style scoped>\n",
       "    .dataframe tbody tr th:only-of-type {\n",
       "        vertical-align: middle;\n",
       "    }\n",
       "\n",
       "    .dataframe tbody tr th {\n",
       "        vertical-align: top;\n",
       "    }\n",
       "\n",
       "    .dataframe thead th {\n",
       "        text-align: right;\n",
       "    }\n",
       "</style>\n",
       "<table border=\"1\" class=\"dataframe\">\n",
       "  <thead>\n",
       "    <tr style=\"text-align: right;\">\n",
       "      <th></th>\n",
       "      <th>time_text</th>\n",
       "      <th>author.name</th>\n",
       "      <th>messages_eng</th>\n",
       "      <th>Sentiment_final</th>\n",
       "      <th>Token</th>\n",
       "      <th>lemmatized</th>\n",
       "    </tr>\n",
       "  </thead>\n",
       "  <tbody>\n",
       "    <tr>\n",
       "      <th>0</th>\n",
       "      <td>-0:24</td>\n",
       "      <td>Venancio Reyna</td>\n",
       "      <td>México :sparkles::heart_on_fire:</td>\n",
       "      <td>neutral</td>\n",
       "      <td>sparkles México :heart_on_fire</td>\n",
       "      <td>SPARKLE MÉXICO : HEART_ON_FIRE</td>\n",
       "    </tr>\n",
       "    <tr>\n",
       "      <th>1</th>\n",
       "      <td>-0:23</td>\n",
       "      <td>Ploylymumu</td>\n",
       "      <td>:blue_heart:</td>\n",
       "      <td>neutral</td>\n",
       "      <td>blue_heart</td>\n",
       "      <td>BLUE_HEART</td>\n",
       "    </tr>\n",
       "    <tr>\n",
       "      <th>2</th>\n",
       "      <td>-0:23</td>\n",
       "      <td>Oemah Printing</td>\n",
       "      <td>Indonesia</td>\n",
       "      <td>neutral</td>\n",
       "      <td>Indonesia</td>\n",
       "      <td>INDONESIA</td>\n",
       "    </tr>\n",
       "    <tr>\n",
       "      <th>3</th>\n",
       "      <td>-0:23</td>\n",
       "      <td>Tiên Hoàng</td>\n",
       "      <td>Vietnam</td>\n",
       "      <td>neutral</td>\n",
       "      <td>Vietnam</td>\n",
       "      <td>VIETNAM</td>\n",
       "    </tr>\n",
       "    <tr>\n",
       "      <th>4</th>\n",
       "      <td>-0:21</td>\n",
       "      <td>TRUONG NGUYEN</td>\n",
       "      <td>Vietnam</td>\n",
       "      <td>neutral</td>\n",
       "      <td>Vietnam</td>\n",
       "      <td>VIETNAM</td>\n",
       "    </tr>\n",
       "    <tr>\n",
       "      <th>...</th>\n",
       "      <td>...</td>\n",
       "      <td>...</td>\n",
       "      <td>...</td>\n",
       "      <td>...</td>\n",
       "      <td>...</td>\n",
       "      <td>...</td>\n",
       "    </tr>\n",
       "    <tr>\n",
       "      <th>94643</th>\n",
       "      <td>3:47:41</td>\n",
       "      <td>Nusaba Monhinlad</td>\n",
       "      <td>Ing Fah secondary</td>\n",
       "      <td>neutral</td>\n",
       "      <td>Fah secondary Ing</td>\n",
       "      <td>FAH SECONDARY ING</td>\n",
       "    </tr>\n",
       "    <tr>\n",
       "      <th>94644</th>\n",
       "      <td>3:47:41</td>\n",
       "      <td>Pitan Danlammajak</td>\n",
       "      <td>The best, Thailand</td>\n",
       "      <td>positive</td>\n",
       "      <td>Thailand best</td>\n",
       "      <td>THAILAND BEST</td>\n",
       "    </tr>\n",
       "    <tr>\n",
       "      <th>94645</th>\n",
       "      <td>3:47:42</td>\n",
       "      <td>Sorayut Hitjamnong</td>\n",
       "      <td>Elder Fah is the best. Suppose: Crown:  Leff</td>\n",
       "      <td>positive</td>\n",
       "      <td>Suppose Leff Elder best Fah Crown</td>\n",
       "      <td>SUPPOSE LEFF ELDER BEST FAH CROWN</td>\n",
       "    </tr>\n",
       "    <tr>\n",
       "      <th>94646</th>\n",
       "      <td>3:47:42</td>\n",
       "      <td>faii jilada</td>\n",
       "      <td>Alright, elder Ing has come so far.</td>\n",
       "      <td>positive</td>\n",
       "      <td>elder far come Alright Ing</td>\n",
       "      <td>ELDER FAR COME ALRIGHT ING</td>\n",
       "    </tr>\n",
       "    <tr>\n",
       "      <th>94647</th>\n",
       "      <td>3:47:42</td>\n",
       "      <td>Nawamin Maimad</td>\n",
       "      <td>Well, both secondary and good. Ing Fah, do you...</td>\n",
       "      <td>positive</td>\n",
       "      <td>good secondary best Fah Congratulations Bra In...</td>\n",
       "      <td>GOOD SECONDARY BEST FAH CONGRATULATIONS BRA IN...</td>\n",
       "    </tr>\n",
       "  </tbody>\n",
       "</table>\n",
       "<p>94648 rows × 6 columns</p>\n",
       "</div>"
      ],
      "text/plain": [
       "      time_text         author.name  \\\n",
       "0         -0:24      Venancio Reyna   \n",
       "1         -0:23          Ploylymumu   \n",
       "2         -0:23      Oemah Printing   \n",
       "3         -0:23          Tiên Hoàng   \n",
       "4         -0:21       TRUONG NGUYEN   \n",
       "...         ...                 ...   \n",
       "94643   3:47:41    Nusaba Monhinlad   \n",
       "94644   3:47:41   Pitan Danlammajak   \n",
       "94645   3:47:42  Sorayut Hitjamnong   \n",
       "94646   3:47:42         faii jilada   \n",
       "94647   3:47:42      Nawamin Maimad   \n",
       "\n",
       "                                            messages_eng Sentiment_final  \\\n",
       "0                       México :sparkles::heart_on_fire:         neutral   \n",
       "1                                           :blue_heart:         neutral   \n",
       "2                                              Indonesia         neutral   \n",
       "3                                               Vietnam          neutral   \n",
       "4                                               Vietnam          neutral   \n",
       "...                                                  ...             ...   \n",
       "94643                                  Ing Fah secondary         neutral   \n",
       "94644                                 The best, Thailand        positive   \n",
       "94645       Elder Fah is the best. Suppose: Crown:  Leff        positive   \n",
       "94646                Alright, elder Ing has come so far.        positive   \n",
       "94647  Well, both secondary and good. Ing Fah, do you...        positive   \n",
       "\n",
       "                                                   Token  \\\n",
       "0                         sparkles México :heart_on_fire   \n",
       "1                                             blue_heart   \n",
       "2                                              Indonesia   \n",
       "3                                                Vietnam   \n",
       "4                                                Vietnam   \n",
       "...                                                  ...   \n",
       "94643                                  Fah secondary Ing   \n",
       "94644                                      Thailand best   \n",
       "94645                  Suppose Leff Elder best Fah Crown   \n",
       "94646                         elder far come Alright Ing   \n",
       "94647  good secondary best Fah Congratulations Bra In...   \n",
       "\n",
       "                                              lemmatized  \n",
       "0                         SPARKLE MÉXICO : HEART_ON_FIRE  \n",
       "1                                             BLUE_HEART  \n",
       "2                                              INDONESIA  \n",
       "3                                                VIETNAM  \n",
       "4                                                VIETNAM  \n",
       "...                                                  ...  \n",
       "94643                                  FAH SECONDARY ING  \n",
       "94644                                      THAILAND BEST  \n",
       "94645                  SUPPOSE LEFF ELDER BEST FAH CROWN  \n",
       "94646                         ELDER FAR COME ALRIGHT ING  \n",
       "94647  GOOD SECONDARY BEST FAH CONGRATULATIONS BRA IN...  \n",
       "\n",
       "[94648 rows x 6 columns]"
      ]
     },
     "execution_count": 7,
     "metadata": {},
     "output_type": "execute_result"
    }
   ],
   "source": [
    "# df_sentiment')\n",
    "df_sentiment = pd.read_csv('final_data/df_clean.csv')\n",
    "df_sentiment"
   ]
  },
  {
   "cell_type": "code",
   "execution_count": 8,
   "metadata": {},
   "outputs": [
    {
     "data": {
      "text/html": [
       "<div>\n",
       "<style scoped>\n",
       "    .dataframe tbody tr th:only-of-type {\n",
       "        vertical-align: middle;\n",
       "    }\n",
       "\n",
       "    .dataframe tbody tr th {\n",
       "        vertical-align: top;\n",
       "    }\n",
       "\n",
       "    .dataframe thead th {\n",
       "        text-align: right;\n",
       "    }\n",
       "</style>\n",
       "<table border=\"1\" class=\"dataframe\">\n",
       "  <thead>\n",
       "    <tr style=\"text-align: right;\">\n",
       "      <th></th>\n",
       "      <th>Sentiment_final</th>\n",
       "      <th>time_text</th>\n",
       "      <th>author.name</th>\n",
       "      <th>messages_eng</th>\n",
       "      <th>Token</th>\n",
       "      <th>lemmatized</th>\n",
       "    </tr>\n",
       "  </thead>\n",
       "  <tbody>\n",
       "    <tr>\n",
       "      <th>0</th>\n",
       "      <td>negative</td>\n",
       "      <td>7731</td>\n",
       "      <td>7731</td>\n",
       "      <td>7731</td>\n",
       "      <td>7698</td>\n",
       "      <td>7698</td>\n",
       "    </tr>\n",
       "    <tr>\n",
       "      <th>1</th>\n",
       "      <td>neutral</td>\n",
       "      <td>60851</td>\n",
       "      <td>60851</td>\n",
       "      <td>57691</td>\n",
       "      <td>56668</td>\n",
       "      <td>56668</td>\n",
       "    </tr>\n",
       "    <tr>\n",
       "      <th>2</th>\n",
       "      <td>positive</td>\n",
       "      <td>26066</td>\n",
       "      <td>26066</td>\n",
       "      <td>26066</td>\n",
       "      <td>26065</td>\n",
       "      <td>26065</td>\n",
       "    </tr>\n",
       "  </tbody>\n",
       "</table>\n",
       "</div>"
      ],
      "text/plain": [
       "  Sentiment_final  time_text  author.name  messages_eng  Token  lemmatized\n",
       "0        negative       7731         7731          7731   7698        7698\n",
       "1         neutral      60851        60851         57691  56668       56668\n",
       "2        positive      26066        26066         26066  26065       26065"
      ]
     },
     "execution_count": 8,
     "metadata": {},
     "output_type": "execute_result"
    }
   ],
   "source": [
    "# count sentiment negative, neutral, positive\n",
    "df_sentiment_count = df_sentiment.groupby(['Sentiment_final']).count()\n",
    "df_sentiment_count = df_sentiment_count.reset_index()\n",
    "df_sentiment_count"
   ]
  },
  {
   "cell_type": "code",
   "execution_count": 9,
   "metadata": {},
   "outputs": [],
   "source": [
    "negative = df_sentiment_count.lemmatized[0]\n",
    "neutral = df_sentiment_count.lemmatized[1]\n",
    "positive = df_sentiment_count.lemmatized[2]\n",
    "\n",
    "# %total lemmatized\n",
    "total = negative + positive\n",
    "negative = (negative/total*100).round(2)\n",
    "positive = (positive/total*100).round(2)\n"
   ]
  },
  {
   "cell_type": "code",
   "execution_count": 10,
   "metadata": {},
   "outputs": [
    {
     "data": {
      "text/plain": [
       "77.2"
      ]
     },
     "execution_count": 10,
     "metadata": {},
     "output_type": "execute_result"
    }
   ],
   "source": [
    "positive"
   ]
  },
  {
   "cell_type": "code",
   "execution_count": 11,
   "metadata": {},
   "outputs": [],
   "source": [
    "import os\n",
    "import pathlib\n",
    "import re\n",
    "\n",
    "import dash\n",
    "import dash_core_components as dcc\n",
    "import dash_html_components as html\n",
    "import pandas as pd\n",
    "from dash.dependencies import Input, Output, State\n",
    "import cufflinks as cf\n",
    "\n",
    "# Initialize app\n",
    "\n",
    "app = dash.Dash(\n",
    "    __name__,\n",
    "    meta_tags=[\n",
    "        {\"name\": \"viewport\", \"content\": \"width=device-width, initial-scale=1.0\"}\n",
    "    ],\n",
    ")\n",
    "app.title = \"US Opioid Epidemic\"\n",
    "server = app.server"
   ]
  },
  {
   "cell_type": "code",
   "execution_count": 12,
   "metadata": {},
   "outputs": [],
   "source": [
    "style_bottom = {\"border-right\": \"1px solid #000000\",\n",
    "\"border-bottom\": \"1px solid #000000\",\n",
    "\"border-top\": \"1px solid #000000\",\n",
    "\"border-left\": \"1px solid #000000\",\n",
    "\"border-radius\": \"5px\"}\n",
    "\n",
    "colors = {\n",
    "    'background': '#111111',\n",
    "    'text': '#FFFFFF'\n",
    "}\n",
    "\n",
    "DEFAULT_COLORSCALE = [\n",
    "    \"#f2fffb\",\n",
    "    \"#bbffeb\",\n",
    "    \"#98ffe0\",\n",
    "    \"#79ffd6\",\n",
    "    \"#6df0c8\",\n",
    "    \"#69e7c0\",\n",
    "    \"#59dab2\",\n",
    "    \"#45d0a5\",\n",
    "    \"#31c194\",\n",
    "    \"#2bb489\",\n",
    "    \"#25a27b\",\n",
    "    \"#1e906d\",\n",
    "    \"#188463\",\n",
    "    \"#157658\",\n",
    "    \"#11684d\",\n",
    "    \"#10523e\",\n",
    "]\n",
    "\n",
    "DEFAULT_OPACITY = 0.8\n",
    "\n",
    "mapbox_access_token = \"pk.eyJ1IjoicGxvdGx5bWFwYm94IiwiYSI6ImNrOWJqb2F4djBnMjEzbG50amg0dnJieG4ifQ.Zme1-Uzoi75IaFbieBDl3A\"\n",
    "mapbox_style = \"mapbox://styles/plotlymapbox/cjvprkf3t1kns1cqjxuxmwixz\""
   ]
  },
  {
   "cell_type": "code",
   "execution_count": 13,
   "metadata": {},
   "outputs": [
    {
     "name": "stdout",
     "output_type": "stream",
     "text": [
      "       country continent  year  lifeExp       pop   gdpPercap iso_alpha  \\\n",
      "0  Afghanistan      Asia  1952   28.801   8425333  779.445314       AFG   \n",
      "1  Afghanistan      Asia  1957   30.332   9240934  820.853030       AFG   \n",
      "2  Afghanistan      Asia  1962   31.997  10267083  853.100710       AFG   \n",
      "3  Afghanistan      Asia  1967   34.020  11537966  836.197138       AFG   \n",
      "4  Afghanistan      Asia  1972   36.088  13079460  739.981106       AFG   \n",
      "\n",
      "   iso_num  \n",
      "0        4  \n",
      "1        4  \n",
      "2        4  \n",
      "3        4  \n",
      "4        4  \n",
      "Dash is running on http://127.0.0.1:8050/\n",
      "\n",
      "Dash is running on http://127.0.0.1:8050/\n",
      "\n",
      " * Serving Flask app \"__main__\" (lazy loading)\n",
      " * Environment: production\n",
      "\u001b[31m   WARNING: This is a development server. Do not use it in a production deployment.\u001b[0m\n",
      "\u001b[2m   Use a production WSGI server instead.\u001b[0m\n",
      " * Debug mode: off\n"
     ]
    },
    {
     "name": "stderr",
     "output_type": "stream",
     "text": [
      " * Running on http://127.0.0.1:8050/ (Press CTRL+C to quit)\n",
      "127.0.0.1 - - [15/Jan/2023 23:05:37] \"GET / HTTP/1.1\" 200 -\n",
      "127.0.0.1 - - [15/Jan/2023 23:05:38] \"GET /_dash-layout HTTP/1.1\" 200 -\n",
      "127.0.0.1 - - [15/Jan/2023 23:05:38] \"GET /_dash-dependencies HTTP/1.1\" 200 -\n",
      "127.0.0.1 - - [15/Jan/2023 23:05:38] \"GET /_favicon.ico?v=2.7.0 HTTP/1.1\" 200 -\n",
      "127.0.0.1 - - [15/Jan/2023 23:05:38] \"GET /_dash-component-suites/dash/dcc/async-dropdown.js HTTP/1.1\" 200 -\n",
      "127.0.0.1 - - [15/Jan/2023 23:05:38] \"GET /_dash-component-suites/dash/dcc/async-graph.js HTTP/1.1\" 200 -\n",
      "127.0.0.1 - - [15/Jan/2023 23:05:38] \"GET /_dash-component-suites/dash/dcc/async-plotlyjs.js HTTP/1.1\" 200 -\n",
      "127.0.0.1 - - [15/Jan/2023 23:05:38] \"GET /assets/final_data/emo_mgi/1.png HTTP/1.1\" 404 -\n",
      "127.0.0.1 - - [15/Jan/2023 23:05:38] \"GET /assets/final_data/emo_mgi/2.png HTTP/1.1\" 404 -\n",
      "127.0.0.1 - - [15/Jan/2023 23:05:38] \"GET /assets/final_data/emo_mgi/3.png HTTP/1.1\" 404 -\n",
      "127.0.0.1 - - [15/Jan/2023 23:05:38] \"GET /assets/final_data/emo_mgi/4.png HTTP/1.1\" 404 -\n",
      "127.0.0.1 - - [15/Jan/2023 23:05:38] \"GET /assets/final_data/emo_mgi/5.png HTTP/1.1\" 404 -\n",
      "127.0.0.1 - - [15/Jan/2023 23:05:38] \"GET /assets/final_data/pos_pic.png HTTP/1.1\" 404 -\n",
      "127.0.0.1 - - [15/Jan/2023 23:05:38] \"POST /_dash-update-component HTTP/1.1\" 200 -\n",
      "127.0.0.1 - - [15/Jan/2023 23:05:38] \"GET /assets/final_data/emo_mgi/6.png HTTP/1.1\" 404 -\n",
      "127.0.0.1 - - [15/Jan/2023 23:05:38] \"GET /assets/final_data/neg_pic.png HTTP/1.1\" 404 -\n"
     ]
    }
   ],
   "source": [
    "from dash import Dash, dcc, html\n",
    "import dash_bootstrap_components as dbc\n",
    "import plotly.express as px\n",
    "\n",
    "# Instantiate our App and incorporate BOOTSTRAP theme stylesheet\n",
    "app = Dash(__name__, external_stylesheets=[dbc.themes.BOOTSTRAP])\n",
    "\n",
    "# Incorporate data into App\n",
    "df = px.data.gapminder()\n",
    "print(df.head())\n",
    "\n",
    "# Build the scatter plot\n",
    "fig = px.scatter(data_frame=df, x=\"gdpPercap\", y=\"lifeExp\", size=\"pop\",\n",
    "                 color=\"continent\", hover_name=\"country\", log_x=True,\n",
    "                 size_max=60, range_y=[30, 90], animation_frame='year')\n",
    "\n",
    "# Build the layout to define what will be displayed on the page\n",
    "app.layout = dbc.Container([\n",
    "    # separate the page into 2 columns\n",
    "    dbc.Row([\n",
    "        # first column\n",
    "        dbc.Col([\n",
    "            # add a title\n",
    "            html.H1(\"Miss Grand International\", className=\"text-center\"),\n",
    "            # add a subtitle\n",
    "            html.Hr(),\n",
    "\n",
    "            # add row\n",
    "            dbc.Row([\n",
    "                # add Date Published column\n",
    "                dbc.Col([\n",
    "                    # add a title\n",
    "                    html.H5(\"Date Published\", className=\"text-center\"),\n",
    "                    # add a subtitle\n",
    "                    html.P(\"2020-11-23\", className=\"text-center\"),\n",
    "                ], align=\"center\"),\n",
    "                # add Views column\n",
    "                dbc.Col([\n",
    "                    # add a title\n",
    "                    html.H5(\"Views\", className=\"text-center\"),\n",
    "                    # add a subtitle\n",
    "                    html.P(\"1,000\", className=\"text-center\"),\n",
    "                ], align=\"center\"),\n",
    "                # add Likes column\n",
    "                dbc.Col([\n",
    "                    # add a title\n",
    "                    html.H5(\"Likes\", className=\"text-center\"),\n",
    "                    # add a subtitle\n",
    "                    html.P(\"100\", className=\"text-center\"),\n",
    "                ], align=\"center\"),\n",
    "            ]),\n",
    "            # add row\n",
    "            dbc.Row([\n",
    "                # add Total number of comments column\n",
    "                dbc.Col([\n",
    "                    # add a title\n",
    "                    html.H5(\"Total chats\", className=\"text-center\"),\n",
    "                    # add a subtitle\n",
    "                    html.P(\"10\", className=\"text-center\"),\n",
    "                ], align=\"center\"),\n",
    "                # add AVG. number of comments per minute column\n",
    "                dbc.Col([\n",
    "                    # add a title\n",
    "                    html.H5(\"AVG.chat/minute\", className=\"text-center\"),\n",
    "                    # add a subtitle\n",
    "                    html.P(\"1\", className=\"text-center\"),\n",
    "                ], align=\"center\"),\n",
    "            ])\n",
    "        ], width=6),\n",
    "\n",
    "        # second column\n",
    "        dbc.Col([\n",
    "            # add a title\n",
    "            html.H1(\"Miss Universe\", className=\"text-center\"),\n",
    "            # add a subtitle\n",
    "            html.Hr(),\n",
    "\n",
    "            # add row\n",
    "            dbc.Row([\n",
    "                # add Date Published column\n",
    "                dbc.Col([\n",
    "                    # add a title\n",
    "                    html.H5(\"Date Published\", className=\"text-center\"),\n",
    "                    # add a subtitle\n",
    "                    html.P(\"2020-11-23\", className=\"text-center\"),\n",
    "                ], align=\"center\"),\n",
    "                # add Views column\n",
    "                dbc.Col([\n",
    "                    # add a title\n",
    "                    html.H5(\"Views\", className=\"text-center\"),\n",
    "                    # add a subtitle\n",
    "                    html.P(\"1,000\", className=\"text-center\"),\n",
    "                ], align=\"center\"),\n",
    "                # add Likes column\n",
    "                dbc.Col([\n",
    "                    # add a title\n",
    "                    html.H5(\"Likes\", className=\"text-center\"),\n",
    "                    # add a subtitle\n",
    "                    html.P(\"100\", className=\"text-center\"),\n",
    "                ], align=\"center\"),\n",
    "            ]),\n",
    "            # add row\n",
    "            dbc.Row([\n",
    "                # add Total number of comments column\n",
    "                dbc.Col([\n",
    "                    # add a title\n",
    "                    html.H5(\"Total chats\", className=\"text-center\"),\n",
    "                    # add a subtitle\n",
    "                    html.P(\"10\"),\n",
    "                ], align=\"center\", className=\"text-center\"),\n",
    "                # add AVG. number of comments per minute column\n",
    "                dbc.Col([\n",
    "                    # add a title\n",
    "                    html.H5(\"AVG.chat/minute\", className=\"text-center\"),\n",
    "                    # add a subtitle\n",
    "                    html.P(\"1\", className=\"text-center\"),\n",
    "                ], align=\"center\"),\n",
    "            ])\n",
    "        ], width=6)\n",
    "    ]),\n",
    "    # # add map plot\n",
    "    # dbc.Row([\n",
    "    #     dbc.Col([\n",
    "    #         dcc.Graph(figure=fig)\n",
    "\n",
    "    # add Bubble Maps\n",
    "    dbc.Row([\n",
    "        # add title\n",
    "        # html.H1(\"Bubble Maps\", className=\"text-left\"),\n",
    "        # add bottom \"World Wide\" and \"Top 10\" buttons\n",
    "        dbc.Row([\n",
    "            dbc.Col([\n",
    "                html.H3(\"Bubble Maps เปลี่ยนชื่อด้วย\", className=\"text-left\"),\n",
    "            ]),\n",
    "            # add dropdown menu\n",
    "            dbc.Col([\n",
    "                dcc.Dropdown(\n",
    "                    id='country_dropdown',\n",
    "                    options=[{'World Wide': 'World Wide'}, {'Top 10': 'Top 10'}],\n",
    "                    value='World Wide',\n",
    "                    clearable=False,\n",
    "                    style={'width': '60%', 'float': 'right', 'display': 'inline-block'}\n",
    "                )\n",
    "            ]),\n",
    "        ]),\n",
    "        dbc.Col([\n",
    "            # dcc.Graph(figure=fig_map)\n",
    "            dcc.Graph(id='country_chart'),\n",
    "\n",
    "        ])\n",
    "    ]),\n",
    "    \n",
    "    ##### EMOJI Section #####\n",
    "    dbc.Row([\n",
    "        html.H3(\"Top Emoji\", className=\"text-left\"),\n",
    "\n",
    "        ### first emoji column ###\n",
    "        dbc.Col([\n",
    "            # add 3 pic in 1 row\n",
    "            dbc.Row([\n",
    "                # add first pic\n",
    "                dbc.Col([\n",
    "                    html.Img(src=app.get_asset_url('final_data/emo_mgi/1.png')),\n",
    "                    html.P(\"Victory Hand\", className=\"text-center\"),\n",
    "                    html.P(\"301\", className=\"text-center\")\n",
    "                ]),\n",
    "                # add second pic\n",
    "                dbc.Col([\n",
    "                    html.Img(src=app.get_asset_url('final_data/emo_mgi/2.png')),\n",
    "                    html.P(\"Princess\", className=\"text-center\"),\n",
    "                    html.P(\"217\", className=\"text-center\")\n",
    "                ]),\n",
    "                # add third pic\n",
    "                dbc.Col([\n",
    "                    html.Img(src=app.get_asset_url('final_data/emo_mgi/3.png')),\n",
    "                    html.P(\"Clapping Hands\", className=\"text-center\"),\n",
    "                    html.P(\"84\", className=\"text-center\")\n",
    "                ]),\n",
    "            ]),\n",
    "        ]),\n",
    "        ### second emoji column ###\n",
    "        dbc.Col([\n",
    "            # add 3 pic in 1 row\n",
    "            dbc.Row([\n",
    "                # add first pic\n",
    "                dbc.Col([\n",
    "                    html.Img(src=app.get_asset_url('final_data/emo_mgi/4.png')),\n",
    "                    html.P(\"Victory Hand\", className=\"text-center\"),\n",
    "                    html.P(\"301\", className=\"text-center\")\n",
    "                ]),\n",
    "                # add second pic\n",
    "                dbc.Col([\n",
    "                    html.Img(src=app.get_asset_url('final_data/emo_mgi/5.png')),\n",
    "                    html.P(\"Victory Hand\", className=\"text-center\"),\n",
    "                    html.P(\"301\", className=\"text-center\")\n",
    "                ]),\n",
    "                # add third pic\n",
    "                dbc.Col([\n",
    "                    html.Img(src=app.get_asset_url('final_data/emo_mgi/6.png')),\n",
    "                    html.P(\"Victory Hand\", className=\"text-center\"),\n",
    "                    html.P(\"301\", className=\"text-center\")\n",
    "                ]),\n",
    "            ]),\n",
    "        ])\n",
    "    ]),\n",
    "\n",
    "    ##### Sentiment Section #####\n",
    "    dbc.Row([\n",
    "        html.H3(\"Sentiment Analysis\", className=\"text-left\"),\n",
    "        # first sentiment column\n",
    "        dbc.Col([\n",
    "            # add progress bar\n",
    "            dbc.Row([\n",
    "                dbc.Col([\n",
    "                    html.P(\"Positive\", className=\"text-left\"),\n",
    "                    dbc.Progress(value=positive, className=\"mb-3\")\n",
    "                ]),\n",
    "                dbc.Col([\n",
    "                    html.P(\"Neutral\", className=\"text-left\"),\n",
    "                    dbc.Progress(value=neutral, className=\"mb-3\")\n",
    "                ])\n",
    "            ])\n",
    "        ])\n",
    "    ]),\n",
    "\n",
    "    ##### Word Section #####\n",
    "    dbc.Row([\n",
    "        html.H3(\"Word Cloud\", className=\"text-left\"),\n",
    "\n",
    "        dbc.Col([\n",
    "            # add word cloud pic\n",
    "            html.Img(src=app.get_asset_url('final_data/pos_pic.png')),\n",
    "            html.Img(src=app.get_asset_url('final_data/neg_pic.png')),\n",
    "        ]),\n",
    "        dbc.Col([\n",
    "            # add word cloud pic\n",
    "            # html.Img(src=app.get_asset_url('final_data/pos_pic.png')),\n",
    "            # html.Img(src=app.get_asset_url('final_data/neg_pic.png')),\n",
    "            html.Img(src='data:image/png;base64,{}'.format(base64.b64encode(open('final_data/pos_pic.png','rb').read()).decode('ascii')),\n",
    "            style={'width': '50%', 'height': '50%'}),\n",
    "            html.Img(src='data:image/png;base64,{}'.format(base64.b64encode(open('final_data/neg_pic.png','rb').read()).decode('ascii')),\n",
    "            style={'width': '50%', 'height': '50%'}),\n",
    "        ])\n",
    "    ]),\n",
    "])\n",
    "\n",
    "@app.callback(\n",
    "    Output(component_id='country_chart', component_property='figure'),\n",
    "    [Input(component_id='country_dropdown', component_property='value')]\n",
    ")\n",
    "def update_graph(country_dropdown):\n",
    "    global df_country\n",
    "    global df_top10_mgi\n",
    "    if country_dropdown == 'World Wide':\n",
    "        fig = px.scatter_geo(df_country, locations=\"country\", locationmode='country names', color=\"country\", size=\"amount\", hover_name=\"country\", size_max=60, projection=\"natural earth\")\n",
    "        fig.update_layout(showlegend=False, \n",
    "        geo=dict(showframe=False, showcoastlines=False, projection_type='equirectangular'))\n",
    "        fig.update_layout(margin=dict(l=1, r=1, t=1, b=1))\n",
    "    else:\n",
    "        fig = make_subplots(rows=1, cols=2, specs=[[{\"type\": \"bar\"}, {\"type\": \"bar\"}]])\n",
    "        fig.add_trace(\n",
    "            go.Bar(x=df_top10_mgi['country'], y=df_top10_mgi['amount'], name='Amount'),\n",
    "            row=1, col=1)\n",
    "        fig.update_layout(margin=dict(l=50, r=50, t=50, b=50),)\n",
    "\n",
    "    return fig\n",
    "\n",
    "\n",
    "# Run the App\n",
    "if __name__ == '__main__':\n",
    "    app.run_server()"
   ]
  },
  {
   "cell_type": "code",
   "execution_count": null,
   "metadata": {},
   "outputs": [],
   "source": [
    "help(dash.html.Progress)"
   ]
  },
  {
   "cell_type": "code",
   "execution_count": null,
   "metadata": {},
   "outputs": [],
   "source": []
  },
  {
   "cell_type": "code",
   "execution_count": null,
   "metadata": {},
   "outputs": [],
   "source": []
  },
  {
   "attachments": {},
   "cell_type": "markdown",
   "metadata": {},
   "source": [
    "# P'ปิง"
   ]
  },
  {
   "cell_type": "code",
   "execution_count": null,
   "metadata": {},
   "outputs": [],
   "source": []
  }
 ],
 "metadata": {
  "kernelspec": {
   "display_name": "base",
   "language": "python",
   "name": "python3"
  },
  "language_info": {
   "codemirror_mode": {
    "name": "ipython",
    "version": 3
   },
   "file_extension": ".py",
   "mimetype": "text/x-python",
   "name": "python",
   "nbconvert_exporter": "python",
   "pygments_lexer": "ipython3",
   "version": "3.9.13"
  },
  "orig_nbformat": 4,
  "vscode": {
   "interpreter": {
    "hash": "fd9fc80907f974d35e23c17222a35774afd6738e5a5fc70c6eeec52df6e3b3bf"
   }
  }
 },
 "nbformat": 4,
 "nbformat_minor": 2
}
