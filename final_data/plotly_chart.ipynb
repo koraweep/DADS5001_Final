{
 "cells": [
  {
   "cell_type": "code",
   "execution_count": 1,
   "metadata": {},
   "outputs": [],
   "source": [
    "import pandas as pd\n",
    "import plotly.express as px\n",
    "import plotly.graph_objects as go\n",
    "import plotly.io as pio"
   ]
  },
  {
   "cell_type": "code",
   "execution_count": 13,
   "metadata": {},
   "outputs": [
    {
     "data": {
      "text/html": [
       "<div>\n",
       "<style scoped>\n",
       "    .dataframe tbody tr th:only-of-type {\n",
       "        vertical-align: middle;\n",
       "    }\n",
       "\n",
       "    .dataframe tbody tr th {\n",
       "        vertical-align: top;\n",
       "    }\n",
       "\n",
       "    .dataframe thead th {\n",
       "        text-align: right;\n",
       "    }\n",
       "</style>\n",
       "<table border=\"1\" class=\"dataframe\">\n",
       "  <thead>\n",
       "    <tr style=\"text-align: right;\">\n",
       "      <th></th>\n",
       "      <th>countries</th>\n",
       "      <th>amount</th>\n",
       "    </tr>\n",
       "  </thead>\n",
       "  <tbody>\n",
       "    <tr>\n",
       "      <th>0</th>\n",
       "      <td>thailand</td>\n",
       "      <td>12476</td>\n",
       "    </tr>\n",
       "    <tr>\n",
       "      <th>1</th>\n",
       "      <td>cambodia</td>\n",
       "      <td>5266</td>\n",
       "    </tr>\n",
       "    <tr>\n",
       "      <th>2</th>\n",
       "      <td>brazil</td>\n",
       "      <td>4360</td>\n",
       "    </tr>\n",
       "    <tr>\n",
       "      <th>3</th>\n",
       "      <td>indonesia</td>\n",
       "      <td>3723</td>\n",
       "    </tr>\n",
       "    <tr>\n",
       "      <th>4</th>\n",
       "      <td>philippines</td>\n",
       "      <td>1807</td>\n",
       "    </tr>\n",
       "    <tr>\n",
       "      <th>...</th>\n",
       "      <td>...</td>\n",
       "      <td>...</td>\n",
       "    </tr>\n",
       "    <tr>\n",
       "      <th>59</th>\n",
       "      <td>czechia</td>\n",
       "      <td>1</td>\n",
       "    </tr>\n",
       "    <tr>\n",
       "      <th>60</th>\n",
       "      <td>oman</td>\n",
       "      <td>1</td>\n",
       "    </tr>\n",
       "    <tr>\n",
       "      <th>61</th>\n",
       "      <td>denmark</td>\n",
       "      <td>1</td>\n",
       "    </tr>\n",
       "    <tr>\n",
       "      <th>62</th>\n",
       "      <td>mali</td>\n",
       "      <td>1</td>\n",
       "    </tr>\n",
       "    <tr>\n",
       "      <th>63</th>\n",
       "      <td>zimbabwe</td>\n",
       "      <td>1</td>\n",
       "    </tr>\n",
       "  </tbody>\n",
       "</table>\n",
       "<p>64 rows × 2 columns</p>\n",
       "</div>"
      ],
      "text/plain": [
       "      countries  amount\n",
       "0      thailand   12476\n",
       "1      cambodia    5266\n",
       "2        brazil    4360\n",
       "3     indonesia    3723\n",
       "4   philippines    1807\n",
       "..          ...     ...\n",
       "59      czechia       1\n",
       "60         oman       1\n",
       "61      denmark       1\n",
       "62         mali       1\n",
       "63     zimbabwe       1\n",
       "\n",
       "[64 rows x 2 columns]"
      ]
     },
     "execution_count": 13,
     "metadata": {},
     "output_type": "execute_result"
    }
   ],
   "source": [
    "df_country = pd.read_csv('country_summary.csv')\n",
    "df_country.rename(columns={'country_vote': 'countries'}, inplace=True)\n",
    "df_country"
   ]
  },
  {
   "cell_type": "code",
   "execution_count": 28,
   "metadata": {},
   "outputs": [],
   "source": [
    "pio.renderers.default = \"notebook_connected\""
   ]
  },
  {
   "cell_type": "code",
   "execution_count": 44,
   "metadata": {},
   "outputs": [
    {
     "data": {
      "text/html": [
       "<div>                            <div id=\"ed98d505-0185-4957-abe4-d9f664998193\" class=\"plotly-graph-div\" style=\"height:525px; width:100%;\"></div>            <script type=\"text/javascript\">                require([\"plotly\"], function(Plotly) {                    window.PLOTLYENV=window.PLOTLYENV || {};                                    if (document.getElementById(\"ed98d505-0185-4957-abe4-d9f664998193\")) {                    Plotly.newPlot(                        \"ed98d505-0185-4957-abe4-d9f664998193\",                        [{\"geo\":\"geo\",\"hovertemplate\":\"<b>%{hovertext}</b><br><br>countries=%{location}<br>amount=%{marker.size}<extra></extra>\",\"hovertext\":[\"thailand\"],\"legendgroup\":\"thailand\",\"locationmode\":\"country names\",\"locations\":[\"thailand\"],\"marker\":{\"color\":\"#636efa\",\"size\":[12476],\"sizemode\":\"area\",\"sizeref\":3.4655555555555555,\"symbol\":\"circle\"},\"mode\":\"markers\",\"name\":\"thailand\",\"showlegend\":true,\"type\":\"scattergeo\"},{\"geo\":\"geo\",\"hovertemplate\":\"<b>%{hovertext}</b><br><br>countries=%{location}<br>amount=%{marker.size}<extra></extra>\",\"hovertext\":[\"cambodia\"],\"legendgroup\":\"cambodia\",\"locationmode\":\"country names\",\"locations\":[\"cambodia\"],\"marker\":{\"color\":\"#EF553B\",\"size\":[5266],\"sizemode\":\"area\",\"sizeref\":3.4655555555555555,\"symbol\":\"circle\"},\"mode\":\"markers\",\"name\":\"cambodia\",\"showlegend\":true,\"type\":\"scattergeo\"},{\"geo\":\"geo\",\"hovertemplate\":\"<b>%{hovertext}</b><br><br>countries=%{location}<br>amount=%{marker.size}<extra></extra>\",\"hovertext\":[\"brazil\"],\"legendgroup\":\"brazil\",\"locationmode\":\"country names\",\"locations\":[\"brazil\"],\"marker\":{\"color\":\"#00cc96\",\"size\":[4360],\"sizemode\":\"area\",\"sizeref\":3.4655555555555555,\"symbol\":\"circle\"},\"mode\":\"markers\",\"name\":\"brazil\",\"showlegend\":true,\"type\":\"scattergeo\"},{\"geo\":\"geo\",\"hovertemplate\":\"<b>%{hovertext}</b><br><br>countries=%{location}<br>amount=%{marker.size}<extra></extra>\",\"hovertext\":[\"indonesia\"],\"legendgroup\":\"indonesia\",\"locationmode\":\"country names\",\"locations\":[\"indonesia\"],\"marker\":{\"color\":\"#ab63fa\",\"size\":[3723],\"sizemode\":\"area\",\"sizeref\":3.4655555555555555,\"symbol\":\"circle\"},\"mode\":\"markers\",\"name\":\"indonesia\",\"showlegend\":true,\"type\":\"scattergeo\"},{\"geo\":\"geo\",\"hovertemplate\":\"<b>%{hovertext}</b><br><br>countries=%{location}<br>amount=%{marker.size}<extra></extra>\",\"hovertext\":[\"philippines\"],\"legendgroup\":\"philippines\",\"locationmode\":\"country names\",\"locations\":[\"philippines\"],\"marker\":{\"color\":\"#FFA15A\",\"size\":[1807],\"sizemode\":\"area\",\"sizeref\":3.4655555555555555,\"symbol\":\"circle\"},\"mode\":\"markers\",\"name\":\"philippines\",\"showlegend\":true,\"type\":\"scattergeo\"},{\"geo\":\"geo\",\"hovertemplate\":\"<b>%{hovertext}</b><br><br>countries=%{location}<br>amount=%{marker.size}<extra></extra>\",\"hovertext\":[\"vietnam\"],\"legendgroup\":\"vietnam\",\"locationmode\":\"country names\",\"locations\":[\"vietnam\"],\"marker\":{\"color\":\"#19d3f3\",\"size\":[1414],\"sizemode\":\"area\",\"sizeref\":3.4655555555555555,\"symbol\":\"circle\"},\"mode\":\"markers\",\"name\":\"vietnam\",\"showlegend\":true,\"type\":\"scattergeo\"},{\"geo\":\"geo\",\"hovertemplate\":\"<b>%{hovertext}</b><br><br>countries=%{location}<br>amount=%{marker.size}<extra></extra>\",\"hovertext\":[\"myanmar\"],\"legendgroup\":\"myanmar\",\"locationmode\":\"country names\",\"locations\":[\"myanmar\"],\"marker\":{\"color\":\"#FF6692\",\"size\":[610],\"sizemode\":\"area\",\"sizeref\":3.4655555555555555,\"symbol\":\"circle\"},\"mode\":\"markers\",\"name\":\"myanmar\",\"showlegend\":true,\"type\":\"scattergeo\"},{\"geo\":\"geo\",\"hovertemplate\":\"<b>%{hovertext}</b><br><br>countries=%{location}<br>amount=%{marker.size}<extra></extra>\",\"hovertext\":[\"mexico\"],\"legendgroup\":\"mexico\",\"locationmode\":\"country names\",\"locations\":[\"mexico\"],\"marker\":{\"color\":\"#B6E880\",\"size\":[207],\"sizemode\":\"area\",\"sizeref\":3.4655555555555555,\"symbol\":\"circle\"},\"mode\":\"markers\",\"name\":\"mexico\",\"showlegend\":true,\"type\":\"scattergeo\"},{\"geo\":\"geo\",\"hovertemplate\":\"<b>%{hovertext}</b><br><br>countries=%{location}<br>amount=%{marker.size}<extra></extra>\",\"hovertext\":[\"colombia\"],\"legendgroup\":\"colombia\",\"locationmode\":\"country names\",\"locations\":[\"colombia\"],\"marker\":{\"color\":\"#FF97FF\",\"size\":[189],\"sizemode\":\"area\",\"sizeref\":3.4655555555555555,\"symbol\":\"circle\"},\"mode\":\"markers\",\"name\":\"colombia\",\"showlegend\":true,\"type\":\"scattergeo\"},{\"geo\":\"geo\",\"hovertemplate\":\"<b>%{hovertext}</b><br><br>countries=%{location}<br>amount=%{marker.size}<extra></extra>\",\"hovertext\":[\"puerto rico\"],\"legendgroup\":\"puerto rico\",\"locationmode\":\"country names\",\"locations\":[\"puerto rico\"],\"marker\":{\"color\":\"#FECB52\",\"size\":[140],\"sizemode\":\"area\",\"sizeref\":3.4655555555555555,\"symbol\":\"circle\"},\"mode\":\"markers\",\"name\":\"puerto rico\",\"showlegend\":true,\"type\":\"scattergeo\"},{\"geo\":\"geo\",\"hovertemplate\":\"<b>%{hovertext}</b><br><br>countries=%{location}<br>amount=%{marker.size}<extra></extra>\",\"hovertext\":[\"mozambique\"],\"legendgroup\":\"mozambique\",\"locationmode\":\"country names\",\"locations\":[\"mozambique\"],\"marker\":{\"color\":\"#636efa\",\"size\":[134],\"sizemode\":\"area\",\"sizeref\":3.4655555555555555,\"symbol\":\"circle\"},\"mode\":\"markers\",\"name\":\"mozambique\",\"showlegend\":true,\"type\":\"scattergeo\"},{\"geo\":\"geo\",\"hovertemplate\":\"<b>%{hovertext}</b><br><br>countries=%{location}<br>amount=%{marker.size}<extra></extra>\",\"hovertext\":[\"malaysia\"],\"legendgroup\":\"malaysia\",\"locationmode\":\"country names\",\"locations\":[\"malaysia\"],\"marker\":{\"color\":\"#EF553B\",\"size\":[121],\"sizemode\":\"area\",\"sizeref\":3.4655555555555555,\"symbol\":\"circle\"},\"mode\":\"markers\",\"name\":\"malaysia\",\"showlegend\":true,\"type\":\"scattergeo\"},{\"geo\":\"geo\",\"hovertemplate\":\"<b>%{hovertext}</b><br><br>countries=%{location}<br>amount=%{marker.size}<extra></extra>\",\"hovertext\":[\"peru\"],\"legendgroup\":\"peru\",\"locationmode\":\"country names\",\"locations\":[\"peru\"],\"marker\":{\"color\":\"#00cc96\",\"size\":[93],\"sizemode\":\"area\",\"sizeref\":3.4655555555555555,\"symbol\":\"circle\"},\"mode\":\"markers\",\"name\":\"peru\",\"showlegend\":true,\"type\":\"scattergeo\"},{\"geo\":\"geo\",\"hovertemplate\":\"<b>%{hovertext}</b><br><br>countries=%{location}<br>amount=%{marker.size}<extra></extra>\",\"hovertext\":[\"guatemala\"],\"legendgroup\":\"guatemala\",\"locationmode\":\"country names\",\"locations\":[\"guatemala\"],\"marker\":{\"color\":\"#ab63fa\",\"size\":[78],\"sizemode\":\"area\",\"sizeref\":3.4655555555555555,\"symbol\":\"circle\"},\"mode\":\"markers\",\"name\":\"guatemala\",\"showlegend\":true,\"type\":\"scattergeo\"},{\"geo\":\"geo\",\"hovertemplate\":\"<b>%{hovertext}</b><br><br>countries=%{location}<br>amount=%{marker.size}<extra></extra>\",\"hovertext\":[\"paraguay\"],\"legendgroup\":\"paraguay\",\"locationmode\":\"country names\",\"locations\":[\"paraguay\"],\"marker\":{\"color\":\"#FFA15A\",\"size\":[75],\"sizemode\":\"area\",\"sizeref\":3.4655555555555555,\"symbol\":\"circle\"},\"mode\":\"markers\",\"name\":\"paraguay\",\"showlegend\":true,\"type\":\"scattergeo\"},{\"geo\":\"geo\",\"hovertemplate\":\"<b>%{hovertext}</b><br><br>countries=%{location}<br>amount=%{marker.size}<extra></extra>\",\"hovertext\":[\"ecuador\"],\"legendgroup\":\"ecuador\",\"locationmode\":\"country names\",\"locations\":[\"ecuador\"],\"marker\":{\"color\":\"#19d3f3\",\"size\":[73],\"sizemode\":\"area\",\"sizeref\":3.4655555555555555,\"symbol\":\"circle\"},\"mode\":\"markers\",\"name\":\"ecuador\",\"showlegend\":true,\"type\":\"scattergeo\"},{\"geo\":\"geo\",\"hovertemplate\":\"<b>%{hovertext}</b><br><br>countries=%{location}<br>amount=%{marker.size}<extra></extra>\",\"hovertext\":[\"india\"],\"legendgroup\":\"india\",\"locationmode\":\"country names\",\"locations\":[\"india\"],\"marker\":{\"color\":\"#FF6692\",\"size\":[48],\"sizemode\":\"area\",\"sizeref\":3.4655555555555555,\"symbol\":\"circle\"},\"mode\":\"markers\",\"name\":\"india\",\"showlegend\":true,\"type\":\"scattergeo\"},{\"geo\":\"geo\",\"hovertemplate\":\"<b>%{hovertext}</b><br><br>countries=%{location}<br>amount=%{marker.size}<extra></extra>\",\"hovertext\":[\"spain\"],\"legendgroup\":\"spain\",\"locationmode\":\"country names\",\"locations\":[\"spain\"],\"marker\":{\"color\":\"#B6E880\",\"size\":[45],\"sizemode\":\"area\",\"sizeref\":3.4655555555555555,\"symbol\":\"circle\"},\"mode\":\"markers\",\"name\":\"spain\",\"showlegend\":true,\"type\":\"scattergeo\"},{\"geo\":\"geo\",\"hovertemplate\":\"<b>%{hovertext}</b><br><br>countries=%{location}<br>amount=%{marker.size}<extra></extra>\",\"hovertext\":[\"dominica\"],\"legendgroup\":\"dominica\",\"locationmode\":\"country names\",\"locations\":[\"dominica\"],\"marker\":{\"color\":\"#FF97FF\",\"size\":[31],\"sizemode\":\"area\",\"sizeref\":3.4655555555555555,\"symbol\":\"circle\"},\"mode\":\"markers\",\"name\":\"dominica\",\"showlegend\":true,\"type\":\"scattergeo\"},{\"geo\":\"geo\",\"hovertemplate\":\"<b>%{hovertext}</b><br><br>countries=%{location}<br>amount=%{marker.size}<extra></extra>\",\"hovertext\":[\"honduras\"],\"legendgroup\":\"honduras\",\"locationmode\":\"country names\",\"locations\":[\"honduras\"],\"marker\":{\"color\":\"#FECB52\",\"size\":[27],\"sizemode\":\"area\",\"sizeref\":3.4655555555555555,\"symbol\":\"circle\"},\"mode\":\"markers\",\"name\":\"honduras\",\"showlegend\":true,\"type\":\"scattergeo\"},{\"geo\":\"geo\",\"hovertemplate\":\"<b>%{hovertext}</b><br><br>countries=%{location}<br>amount=%{marker.size}<extra></extra>\",\"hovertext\":[\"hong kong\"],\"legendgroup\":\"hong kong\",\"locationmode\":\"country names\",\"locations\":[\"hong kong\"],\"marker\":{\"color\":\"#636efa\",\"size\":[26],\"sizemode\":\"area\",\"sizeref\":3.4655555555555555,\"symbol\":\"circle\"},\"mode\":\"markers\",\"name\":\"hong kong\",\"showlegend\":true,\"type\":\"scattergeo\"},{\"geo\":\"geo\",\"hovertemplate\":\"<b>%{hovertext}</b><br><br>countries=%{location}<br>amount=%{marker.size}<extra></extra>\",\"hovertext\":[\"ukraine\"],\"legendgroup\":\"ukraine\",\"locationmode\":\"country names\",\"locations\":[\"ukraine\"],\"marker\":{\"color\":\"#EF553B\",\"size\":[24],\"sizemode\":\"area\",\"sizeref\":3.4655555555555555,\"symbol\":\"circle\"},\"mode\":\"markers\",\"name\":\"ukraine\",\"showlegend\":true,\"type\":\"scattergeo\"},{\"geo\":\"geo\",\"hovertemplate\":\"<b>%{hovertext}</b><br><br>countries=%{location}<br>amount=%{marker.size}<extra></extra>\",\"hovertext\":[\"uganda\"],\"legendgroup\":\"uganda\",\"locationmode\":\"country names\",\"locations\":[\"uganda\"],\"marker\":{\"color\":\"#00cc96\",\"size\":[23],\"sizemode\":\"area\",\"sizeref\":3.4655555555555555,\"symbol\":\"circle\"},\"mode\":\"markers\",\"name\":\"uganda\",\"showlegend\":true,\"type\":\"scattergeo\"},{\"geo\":\"geo\",\"hovertemplate\":\"<b>%{hovertext}</b><br><br>countries=%{location}<br>amount=%{marker.size}<extra></extra>\",\"hovertext\":[\"mauritius\"],\"legendgroup\":\"mauritius\",\"locationmode\":\"country names\",\"locations\":[\"mauritius\"],\"marker\":{\"color\":\"#ab63fa\",\"size\":[21],\"sizemode\":\"area\",\"sizeref\":3.4655555555555555,\"symbol\":\"circle\"},\"mode\":\"markers\",\"name\":\"mauritius\",\"showlegend\":true,\"type\":\"scattergeo\"},{\"geo\":\"geo\",\"hovertemplate\":\"<b>%{hovertext}</b><br><br>countries=%{location}<br>amount=%{marker.size}<extra></extra>\",\"hovertext\":[\"costa rica\"],\"legendgroup\":\"costa rica\",\"locationmode\":\"country names\",\"locations\":[\"costa rica\"],\"marker\":{\"color\":\"#FFA15A\",\"size\":[17],\"sizemode\":\"area\",\"sizeref\":3.4655555555555555,\"symbol\":\"circle\"},\"mode\":\"markers\",\"name\":\"costa rica\",\"showlegend\":true,\"type\":\"scattergeo\"},{\"geo\":\"geo\",\"hovertemplate\":\"<b>%{hovertext}</b><br><br>countries=%{location}<br>amount=%{marker.size}<extra></extra>\",\"hovertext\":[\"nigeria\"],\"legendgroup\":\"nigeria\",\"locationmode\":\"country names\",\"locations\":[\"nigeria\"],\"marker\":{\"color\":\"#19d3f3\",\"size\":[16],\"sizemode\":\"area\",\"sizeref\":3.4655555555555555,\"symbol\":\"circle\"},\"mode\":\"markers\",\"name\":\"nigeria\",\"showlegend\":true,\"type\":\"scattergeo\"},{\"geo\":\"geo\",\"hovertemplate\":\"<b>%{hovertext}</b><br><br>countries=%{location}<br>amount=%{marker.size}<extra></extra>\",\"hovertext\":[\"panama\"],\"legendgroup\":\"panama\",\"locationmode\":\"country names\",\"locations\":[\"panama\"],\"marker\":{\"color\":\"#FF6692\",\"size\":[13],\"sizemode\":\"area\",\"sizeref\":3.4655555555555555,\"symbol\":\"circle\"},\"mode\":\"markers\",\"name\":\"panama\",\"showlegend\":true,\"type\":\"scattergeo\"},{\"geo\":\"geo\",\"hovertemplate\":\"<b>%{hovertext}</b><br><br>countries=%{location}<br>amount=%{marker.size}<extra></extra>\",\"hovertext\":[\"ghana\"],\"legendgroup\":\"ghana\",\"locationmode\":\"country names\",\"locations\":[\"ghana\"],\"marker\":{\"color\":\"#B6E880\",\"size\":[11],\"sizemode\":\"area\",\"sizeref\":3.4655555555555555,\"symbol\":\"circle\"},\"mode\":\"markers\",\"name\":\"ghana\",\"showlegend\":true,\"type\":\"scattergeo\"},{\"geo\":\"geo\",\"hovertemplate\":\"<b>%{hovertext}</b><br><br>countries=%{location}<br>amount=%{marker.size}<extra></extra>\",\"hovertext\":[\"nicaragua\"],\"legendgroup\":\"nicaragua\",\"locationmode\":\"country names\",\"locations\":[\"nicaragua\"],\"marker\":{\"color\":\"#FF97FF\",\"size\":[11],\"sizemode\":\"area\",\"sizeref\":3.4655555555555555,\"symbol\":\"circle\"},\"mode\":\"markers\",\"name\":\"nicaragua\",\"showlegend\":true,\"type\":\"scattergeo\"},{\"geo\":\"geo\",\"hovertemplate\":\"<b>%{hovertext}</b><br><br>countries=%{location}<br>amount=%{marker.size}<extra></extra>\",\"hovertext\":[\"angola\"],\"legendgroup\":\"angola\",\"locationmode\":\"country names\",\"locations\":[\"angola\"],\"marker\":{\"color\":\"#FECB52\",\"size\":[10],\"sizemode\":\"area\",\"sizeref\":3.4655555555555555,\"symbol\":\"circle\"},\"mode\":\"markers\",\"name\":\"angola\",\"showlegend\":true,\"type\":\"scattergeo\"},{\"geo\":\"geo\",\"hovertemplate\":\"<b>%{hovertext}</b><br><br>countries=%{location}<br>amount=%{marker.size}<extra></extra>\",\"hovertext\":[\"australia\"],\"legendgroup\":\"australia\",\"locationmode\":\"country names\",\"locations\":[\"australia\"],\"marker\":{\"color\":\"#636efa\",\"size\":[10],\"sizemode\":\"area\",\"sizeref\":3.4655555555555555,\"symbol\":\"circle\"},\"mode\":\"markers\",\"name\":\"australia\",\"showlegend\":true,\"type\":\"scattergeo\"},{\"geo\":\"geo\",\"hovertemplate\":\"<b>%{hovertext}</b><br><br>countries=%{location}<br>amount=%{marker.size}<extra></extra>\",\"hovertext\":[\"japan\"],\"legendgroup\":\"japan\",\"locationmode\":\"country names\",\"locations\":[\"japan\"],\"marker\":{\"color\":\"#EF553B\",\"size\":[9],\"sizemode\":\"area\",\"sizeref\":3.4655555555555555,\"symbol\":\"circle\"},\"mode\":\"markers\",\"name\":\"japan\",\"showlegend\":true,\"type\":\"scattergeo\"},{\"geo\":\"geo\",\"hovertemplate\":\"<b>%{hovertext}</b><br><br>countries=%{location}<br>amount=%{marker.size}<extra></extra>\",\"hovertext\":[\"italy\"],\"legendgroup\":\"italy\",\"locationmode\":\"country names\",\"locations\":[\"italy\"],\"marker\":{\"color\":\"#00cc96\",\"size\":[7],\"sizemode\":\"area\",\"sizeref\":3.4655555555555555,\"symbol\":\"circle\"},\"mode\":\"markers\",\"name\":\"italy\",\"showlegend\":true,\"type\":\"scattergeo\"},{\"geo\":\"geo\",\"hovertemplate\":\"<b>%{hovertext}</b><br><br>countries=%{location}<br>amount=%{marker.size}<extra></extra>\",\"hovertext\":[\"israel\"],\"legendgroup\":\"israel\",\"locationmode\":\"country names\",\"locations\":[\"israel\"],\"marker\":{\"color\":\"#ab63fa\",\"size\":[7],\"sizemode\":\"area\",\"sizeref\":3.4655555555555555,\"symbol\":\"circle\"},\"mode\":\"markers\",\"name\":\"israel\",\"showlegend\":true,\"type\":\"scattergeo\"},{\"geo\":\"geo\",\"hovertemplate\":\"<b>%{hovertext}</b><br><br>countries=%{location}<br>amount=%{marker.size}<extra></extra>\",\"hovertext\":[\"germany\"],\"legendgroup\":\"germany\",\"locationmode\":\"country names\",\"locations\":[\"germany\"],\"marker\":{\"color\":\"#FFA15A\",\"size\":[7],\"sizemode\":\"area\",\"sizeref\":3.4655555555555555,\"symbol\":\"circle\"},\"mode\":\"markers\",\"name\":\"germany\",\"showlegend\":true,\"type\":\"scattergeo\"},{\"geo\":\"geo\",\"hovertemplate\":\"<b>%{hovertext}</b><br><br>countries=%{location}<br>amount=%{marker.size}<extra></extra>\",\"hovertext\":[\"hongkong\"],\"legendgroup\":\"hongkong\",\"locationmode\":\"country names\",\"locations\":[\"hongkong\"],\"marker\":{\"color\":\"#19d3f3\",\"size\":[6],\"sizemode\":\"area\",\"sizeref\":3.4655555555555555,\"symbol\":\"circle\"},\"mode\":\"markers\",\"name\":\"hongkong\",\"showlegend\":true,\"type\":\"scattergeo\"},{\"geo\":\"geo\",\"hovertemplate\":\"<b>%{hovertext}</b><br><br>countries=%{location}<br>amount=%{marker.size}<extra></extra>\",\"hovertext\":[\"china\"],\"legendgroup\":\"china\",\"locationmode\":\"country names\",\"locations\":[\"china\"],\"marker\":{\"color\":\"#FF6692\",\"size\":[6],\"sizemode\":\"area\",\"sizeref\":3.4655555555555555,\"symbol\":\"circle\"},\"mode\":\"markers\",\"name\":\"china\",\"showlegend\":true,\"type\":\"scattergeo\"},{\"geo\":\"geo\",\"hovertemplate\":\"<b>%{hovertext}</b><br><br>countries=%{location}<br>amount=%{marker.size}<extra></extra>\",\"hovertext\":[\"nepal\"],\"legendgroup\":\"nepal\",\"locationmode\":\"country names\",\"locations\":[\"nepal\"],\"marker\":{\"color\":\"#B6E880\",\"size\":[6],\"sizemode\":\"area\",\"sizeref\":3.4655555555555555,\"symbol\":\"circle\"},\"mode\":\"markers\",\"name\":\"nepal\",\"showlegend\":true,\"type\":\"scattergeo\"},{\"geo\":\"geo\",\"hovertemplate\":\"<b>%{hovertext}</b><br><br>countries=%{location}<br>amount=%{marker.size}<extra></extra>\",\"hovertext\":[\"pakistan\"],\"legendgroup\":\"pakistan\",\"locationmode\":\"country names\",\"locations\":[\"pakistan\"],\"marker\":{\"color\":\"#FF97FF\",\"size\":[5],\"sizemode\":\"area\",\"sizeref\":3.4655555555555555,\"symbol\":\"circle\"},\"mode\":\"markers\",\"name\":\"pakistan\",\"showlegend\":true,\"type\":\"scattergeo\"},{\"geo\":\"geo\",\"hovertemplate\":\"<b>%{hovertext}</b><br><br>countries=%{location}<br>amount=%{marker.size}<extra></extra>\",\"hovertext\":[\"mongolia\"],\"legendgroup\":\"mongolia\",\"locationmode\":\"country names\",\"locations\":[\"mongolia\"],\"marker\":{\"color\":\"#FECB52\",\"size\":[4],\"sizemode\":\"area\",\"sizeref\":3.4655555555555555,\"symbol\":\"circle\"},\"mode\":\"markers\",\"name\":\"mongolia\",\"showlegend\":true,\"type\":\"scattergeo\"},{\"geo\":\"geo\",\"hovertemplate\":\"<b>%{hovertext}</b><br><br>countries=%{location}<br>amount=%{marker.size}<extra></extra>\",\"hovertext\":[\"chile\"],\"legendgroup\":\"chile\",\"locationmode\":\"country names\",\"locations\":[\"chile\"],\"marker\":{\"color\":\"#636efa\",\"size\":[4],\"sizemode\":\"area\",\"sizeref\":3.4655555555555555,\"symbol\":\"circle\"},\"mode\":\"markers\",\"name\":\"chile\",\"showlegend\":true,\"type\":\"scattergeo\"},{\"geo\":\"geo\",\"hovertemplate\":\"<b>%{hovertext}</b><br><br>countries=%{location}<br>amount=%{marker.size}<extra></extra>\",\"hovertext\":[\"south africa\"],\"legendgroup\":\"south africa\",\"locationmode\":\"country names\",\"locations\":[\"south africa\"],\"marker\":{\"color\":\"#EF553B\",\"size\":[3],\"sizemode\":\"area\",\"sizeref\":3.4655555555555555,\"symbol\":\"circle\"},\"mode\":\"markers\",\"name\":\"south africa\",\"showlegend\":true,\"type\":\"scattergeo\"},{\"geo\":\"geo\",\"hovertemplate\":\"<b>%{hovertext}</b><br><br>countries=%{location}<br>amount=%{marker.size}<extra></extra>\",\"hovertext\":[\"lao\"],\"legendgroup\":\"lao\",\"locationmode\":\"country names\",\"locations\":[\"lao\"],\"marker\":{\"color\":\"#00cc96\",\"size\":[3],\"sizemode\":\"area\",\"sizeref\":3.4655555555555555,\"symbol\":\"circle\"},\"mode\":\"markers\",\"name\":\"lao\",\"showlegend\":true,\"type\":\"scattergeo\"},{\"geo\":\"geo\",\"hovertemplate\":\"<b>%{hovertext}</b><br><br>countries=%{location}<br>amount=%{marker.size}<extra></extra>\",\"hovertext\":[\"argentina\"],\"legendgroup\":\"argentina\",\"locationmode\":\"country names\",\"locations\":[\"argentina\"],\"marker\":{\"color\":\"#ab63fa\",\"size\":[3],\"sizemode\":\"area\",\"sizeref\":3.4655555555555555,\"symbol\":\"circle\"},\"mode\":\"markers\",\"name\":\"argentina\",\"showlegend\":true,\"type\":\"scattergeo\"},{\"geo\":\"geo\",\"hovertemplate\":\"<b>%{hovertext}</b><br><br>countries=%{location}<br>amount=%{marker.size}<extra></extra>\",\"hovertext\":[\"el salvador\"],\"legendgroup\":\"el salvador\",\"locationmode\":\"country names\",\"locations\":[\"el salvador\"],\"marker\":{\"color\":\"#FFA15A\",\"size\":[3],\"sizemode\":\"area\",\"sizeref\":3.4655555555555555,\"symbol\":\"circle\"},\"mode\":\"markers\",\"name\":\"el salvador\",\"showlegend\":true,\"type\":\"scattergeo\"},{\"geo\":\"geo\",\"hovertemplate\":\"<b>%{hovertext}</b><br><br>countries=%{location}<br>amount=%{marker.size}<extra></extra>\",\"hovertext\":[\"curaçao\"],\"legendgroup\":\"curaçao\",\"locationmode\":\"country names\",\"locations\":[\"curaçao\"],\"marker\":{\"color\":\"#19d3f3\",\"size\":[3],\"sizemode\":\"area\",\"sizeref\":3.4655555555555555,\"symbol\":\"circle\"},\"mode\":\"markers\",\"name\":\"curaçao\",\"showlegend\":true,\"type\":\"scattergeo\"},{\"geo\":\"geo\",\"hovertemplate\":\"<b>%{hovertext}</b><br><br>countries=%{location}<br>amount=%{marker.size}<extra></extra>\",\"hovertext\":[\"cuba\"],\"legendgroup\":\"cuba\",\"locationmode\":\"country names\",\"locations\":[\"cuba\"],\"marker\":{\"color\":\"#FF6692\",\"size\":[3],\"sizemode\":\"area\",\"sizeref\":3.4655555555555555,\"symbol\":\"circle\"},\"mode\":\"markers\",\"name\":\"cuba\",\"showlegend\":true,\"type\":\"scattergeo\"},{\"geo\":\"geo\",\"hovertemplate\":\"<b>%{hovertext}</b><br><br>countries=%{location}<br>amount=%{marker.size}<extra></extra>\",\"hovertext\":[\"netherlands\"],\"legendgroup\":\"netherlands\",\"locationmode\":\"country names\",\"locations\":[\"netherlands\"],\"marker\":{\"color\":\"#B6E880\",\"size\":[2],\"sizemode\":\"area\",\"sizeref\":3.4655555555555555,\"symbol\":\"circle\"},\"mode\":\"markers\",\"name\":\"netherlands\",\"showlegend\":true,\"type\":\"scattergeo\"},{\"geo\":\"geo\",\"hovertemplate\":\"<b>%{hovertext}</b><br><br>countries=%{location}<br>amount=%{marker.size}<extra></extra>\",\"hovertext\":[\"bangladesh\"],\"legendgroup\":\"bangladesh\",\"locationmode\":\"country names\",\"locations\":[\"bangladesh\"],\"marker\":{\"color\":\"#FF97FF\",\"size\":[2],\"sizemode\":\"area\",\"sizeref\":3.4655555555555555,\"symbol\":\"circle\"},\"mode\":\"markers\",\"name\":\"bangladesh\",\"showlegend\":true,\"type\":\"scattergeo\"},{\"geo\":\"geo\",\"hovertemplate\":\"<b>%{hovertext}</b><br><br>countries=%{location}<br>amount=%{marker.size}<extra></extra>\",\"hovertext\":[\"france\"],\"legendgroup\":\"france\",\"locationmode\":\"country names\",\"locations\":[\"france\"],\"marker\":{\"color\":\"#FECB52\",\"size\":[2],\"sizemode\":\"area\",\"sizeref\":3.4655555555555555,\"symbol\":\"circle\"},\"mode\":\"markers\",\"name\":\"france\",\"showlegend\":true,\"type\":\"scattergeo\"},{\"geo\":\"geo\",\"hovertemplate\":\"<b>%{hovertext}</b><br><br>countries=%{location}<br>amount=%{marker.size}<extra></extra>\",\"hovertext\":[\"dominican republic\"],\"legendgroup\":\"dominican republic\",\"locationmode\":\"country names\",\"locations\":[\"dominican republic\"],\"marker\":{\"color\":\"#636efa\",\"size\":[2],\"sizemode\":\"area\",\"sizeref\":3.4655555555555555,\"symbol\":\"circle\"},\"mode\":\"markers\",\"name\":\"dominican republic\",\"showlegend\":true,\"type\":\"scattergeo\"},{\"geo\":\"geo\",\"hovertemplate\":\"<b>%{hovertext}</b><br><br>countries=%{location}<br>amount=%{marker.size}<extra></extra>\",\"hovertext\":[\"poland\"],\"legendgroup\":\"poland\",\"locationmode\":\"country names\",\"locations\":[\"poland\"],\"marker\":{\"color\":\"#EF553B\",\"size\":[2],\"sizemode\":\"area\",\"sizeref\":3.4655555555555555,\"symbol\":\"circle\"},\"mode\":\"markers\",\"name\":\"poland\",\"showlegend\":true,\"type\":\"scattergeo\"},{\"geo\":\"geo\",\"hovertemplate\":\"<b>%{hovertext}</b><br><br>countries=%{location}<br>amount=%{marker.size}<extra></extra>\",\"hovertext\":[\"united kingdom\"],\"legendgroup\":\"united kingdom\",\"locationmode\":\"country names\",\"locations\":[\"united kingdom\"],\"marker\":{\"color\":\"#00cc96\",\"size\":[2],\"sizemode\":\"area\",\"sizeref\":3.4655555555555555,\"symbol\":\"circle\"},\"mode\":\"markers\",\"name\":\"united kingdom\",\"showlegend\":true,\"type\":\"scattergeo\"},{\"geo\":\"geo\",\"hovertemplate\":\"<b>%{hovertext}</b><br><br>countries=%{location}<br>amount=%{marker.size}<extra></extra>\",\"hovertext\":[\"singapore\"],\"legendgroup\":\"singapore\",\"locationmode\":\"country names\",\"locations\":[\"singapore\"],\"marker\":{\"color\":\"#ab63fa\",\"size\":[2],\"sizemode\":\"area\",\"sizeref\":3.4655555555555555,\"symbol\":\"circle\"},\"mode\":\"markers\",\"name\":\"singapore\",\"showlegend\":true,\"type\":\"scattergeo\"},{\"geo\":\"geo\",\"hovertemplate\":\"<b>%{hovertext}</b><br><br>countries=%{location}<br>amount=%{marker.size}<extra></extra>\",\"hovertext\":[\"canada\"],\"legendgroup\":\"canada\",\"locationmode\":\"country names\",\"locations\":[\"canada\"],\"marker\":{\"color\":\"#FFA15A\",\"size\":[2],\"sizemode\":\"area\",\"sizeref\":3.4655555555555555,\"symbol\":\"circle\"},\"mode\":\"markers\",\"name\":\"canada\",\"showlegend\":true,\"type\":\"scattergeo\"},{\"geo\":\"geo\",\"hovertemplate\":\"<b>%{hovertext}</b><br><br>countries=%{location}<br>amount=%{marker.size}<extra></extra>\",\"hovertext\":[\"sri lanka\"],\"legendgroup\":\"sri lanka\",\"locationmode\":\"country names\",\"locations\":[\"sri lanka\"],\"marker\":{\"color\":\"#19d3f3\",\"size\":[2],\"sizemode\":\"area\",\"sizeref\":3.4655555555555555,\"symbol\":\"circle\"},\"mode\":\"markers\",\"name\":\"sri lanka\",\"showlegend\":true,\"type\":\"scattergeo\"},{\"geo\":\"geo\",\"hovertemplate\":\"<b>%{hovertext}</b><br><br>countries=%{location}<br>amount=%{marker.size}<extra></extra>\",\"hovertext\":[\"turkey\"],\"legendgroup\":\"turkey\",\"locationmode\":\"country names\",\"locations\":[\"turkey\"],\"marker\":{\"color\":\"#FF6692\",\"size\":[1],\"sizemode\":\"area\",\"sizeref\":3.4655555555555555,\"symbol\":\"circle\"},\"mode\":\"markers\",\"name\":\"turkey\",\"showlegend\":true,\"type\":\"scattergeo\"},{\"geo\":\"geo\",\"hovertemplate\":\"<b>%{hovertext}</b><br><br>countries=%{location}<br>amount=%{marker.size}<extra></extra>\",\"hovertext\":[\"chad\"],\"legendgroup\":\"chad\",\"locationmode\":\"country names\",\"locations\":[\"chad\"],\"marker\":{\"color\":\"#B6E880\",\"size\":[1],\"sizemode\":\"area\",\"sizeref\":3.4655555555555555,\"symbol\":\"circle\"},\"mode\":\"markers\",\"name\":\"chad\",\"showlegend\":true,\"type\":\"scattergeo\"},{\"geo\":\"geo\",\"hovertemplate\":\"<b>%{hovertext}</b><br><br>countries=%{location}<br>amount=%{marker.size}<extra></extra>\",\"hovertext\":[\"somalia\"],\"legendgroup\":\"somalia\",\"locationmode\":\"country names\",\"locations\":[\"somalia\"],\"marker\":{\"color\":\"#FF97FF\",\"size\":[1],\"sizemode\":\"area\",\"sizeref\":3.4655555555555555,\"symbol\":\"circle\"},\"mode\":\"markers\",\"name\":\"somalia\",\"showlegend\":true,\"type\":\"scattergeo\"},{\"geo\":\"geo\",\"hovertemplate\":\"<b>%{hovertext}</b><br><br>countries=%{location}<br>amount=%{marker.size}<extra></extra>\",\"hovertext\":[\"czechia\"],\"legendgroup\":\"czechia\",\"locationmode\":\"country names\",\"locations\":[\"czechia\"],\"marker\":{\"color\":\"#FECB52\",\"size\":[1],\"sizemode\":\"area\",\"sizeref\":3.4655555555555555,\"symbol\":\"circle\"},\"mode\":\"markers\",\"name\":\"czechia\",\"showlegend\":true,\"type\":\"scattergeo\"},{\"geo\":\"geo\",\"hovertemplate\":\"<b>%{hovertext}</b><br><br>countries=%{location}<br>amount=%{marker.size}<extra></extra>\",\"hovertext\":[\"oman\"],\"legendgroup\":\"oman\",\"locationmode\":\"country names\",\"locations\":[\"oman\"],\"marker\":{\"color\":\"#636efa\",\"size\":[1],\"sizemode\":\"area\",\"sizeref\":3.4655555555555555,\"symbol\":\"circle\"},\"mode\":\"markers\",\"name\":\"oman\",\"showlegend\":true,\"type\":\"scattergeo\"},{\"geo\":\"geo\",\"hovertemplate\":\"<b>%{hovertext}</b><br><br>countries=%{location}<br>amount=%{marker.size}<extra></extra>\",\"hovertext\":[\"denmark\"],\"legendgroup\":\"denmark\",\"locationmode\":\"country names\",\"locations\":[\"denmark\"],\"marker\":{\"color\":\"#EF553B\",\"size\":[1],\"sizemode\":\"area\",\"sizeref\":3.4655555555555555,\"symbol\":\"circle\"},\"mode\":\"markers\",\"name\":\"denmark\",\"showlegend\":true,\"type\":\"scattergeo\"},{\"geo\":\"geo\",\"hovertemplate\":\"<b>%{hovertext}</b><br><br>countries=%{location}<br>amount=%{marker.size}<extra></extra>\",\"hovertext\":[\"mali\"],\"legendgroup\":\"mali\",\"locationmode\":\"country names\",\"locations\":[\"mali\"],\"marker\":{\"color\":\"#00cc96\",\"size\":[1],\"sizemode\":\"area\",\"sizeref\":3.4655555555555555,\"symbol\":\"circle\"},\"mode\":\"markers\",\"name\":\"mali\",\"showlegend\":true,\"type\":\"scattergeo\"},{\"geo\":\"geo\",\"hovertemplate\":\"<b>%{hovertext}</b><br><br>countries=%{location}<br>amount=%{marker.size}<extra></extra>\",\"hovertext\":[\"zimbabwe\"],\"legendgroup\":\"zimbabwe\",\"locationmode\":\"country names\",\"locations\":[\"zimbabwe\"],\"marker\":{\"color\":\"#ab63fa\",\"size\":[1],\"sizemode\":\"area\",\"sizeref\":3.4655555555555555,\"symbol\":\"circle\"},\"mode\":\"markers\",\"name\":\"zimbabwe\",\"showlegend\":true,\"type\":\"scattergeo\"}],                        {\"template\":{\"data\":{\"histogram2dcontour\":[{\"type\":\"histogram2dcontour\",\"colorbar\":{\"outlinewidth\":0,\"ticks\":\"\"},\"colorscale\":[[0.0,\"#0d0887\"],[0.1111111111111111,\"#46039f\"],[0.2222222222222222,\"#7201a8\"],[0.3333333333333333,\"#9c179e\"],[0.4444444444444444,\"#bd3786\"],[0.5555555555555556,\"#d8576b\"],[0.6666666666666666,\"#ed7953\"],[0.7777777777777778,\"#fb9f3a\"],[0.8888888888888888,\"#fdca26\"],[1.0,\"#f0f921\"]]}],\"choropleth\":[{\"type\":\"choropleth\",\"colorbar\":{\"outlinewidth\":0,\"ticks\":\"\"}}],\"histogram2d\":[{\"type\":\"histogram2d\",\"colorbar\":{\"outlinewidth\":0,\"ticks\":\"\"},\"colorscale\":[[0.0,\"#0d0887\"],[0.1111111111111111,\"#46039f\"],[0.2222222222222222,\"#7201a8\"],[0.3333333333333333,\"#9c179e\"],[0.4444444444444444,\"#bd3786\"],[0.5555555555555556,\"#d8576b\"],[0.6666666666666666,\"#ed7953\"],[0.7777777777777778,\"#fb9f3a\"],[0.8888888888888888,\"#fdca26\"],[1.0,\"#f0f921\"]]}],\"heatmap\":[{\"type\":\"heatmap\",\"colorbar\":{\"outlinewidth\":0,\"ticks\":\"\"},\"colorscale\":[[0.0,\"#0d0887\"],[0.1111111111111111,\"#46039f\"],[0.2222222222222222,\"#7201a8\"],[0.3333333333333333,\"#9c179e\"],[0.4444444444444444,\"#bd3786\"],[0.5555555555555556,\"#d8576b\"],[0.6666666666666666,\"#ed7953\"],[0.7777777777777778,\"#fb9f3a\"],[0.8888888888888888,\"#fdca26\"],[1.0,\"#f0f921\"]]}],\"heatmapgl\":[{\"type\":\"heatmapgl\",\"colorbar\":{\"outlinewidth\":0,\"ticks\":\"\"},\"colorscale\":[[0.0,\"#0d0887\"],[0.1111111111111111,\"#46039f\"],[0.2222222222222222,\"#7201a8\"],[0.3333333333333333,\"#9c179e\"],[0.4444444444444444,\"#bd3786\"],[0.5555555555555556,\"#d8576b\"],[0.6666666666666666,\"#ed7953\"],[0.7777777777777778,\"#fb9f3a\"],[0.8888888888888888,\"#fdca26\"],[1.0,\"#f0f921\"]]}],\"contourcarpet\":[{\"type\":\"contourcarpet\",\"colorbar\":{\"outlinewidth\":0,\"ticks\":\"\"}}],\"contour\":[{\"type\":\"contour\",\"colorbar\":{\"outlinewidth\":0,\"ticks\":\"\"},\"colorscale\":[[0.0,\"#0d0887\"],[0.1111111111111111,\"#46039f\"],[0.2222222222222222,\"#7201a8\"],[0.3333333333333333,\"#9c179e\"],[0.4444444444444444,\"#bd3786\"],[0.5555555555555556,\"#d8576b\"],[0.6666666666666666,\"#ed7953\"],[0.7777777777777778,\"#fb9f3a\"],[0.8888888888888888,\"#fdca26\"],[1.0,\"#f0f921\"]]}],\"surface\":[{\"type\":\"surface\",\"colorbar\":{\"outlinewidth\":0,\"ticks\":\"\"},\"colorscale\":[[0.0,\"#0d0887\"],[0.1111111111111111,\"#46039f\"],[0.2222222222222222,\"#7201a8\"],[0.3333333333333333,\"#9c179e\"],[0.4444444444444444,\"#bd3786\"],[0.5555555555555556,\"#d8576b\"],[0.6666666666666666,\"#ed7953\"],[0.7777777777777778,\"#fb9f3a\"],[0.8888888888888888,\"#fdca26\"],[1.0,\"#f0f921\"]]}],\"mesh3d\":[{\"type\":\"mesh3d\",\"colorbar\":{\"outlinewidth\":0,\"ticks\":\"\"}}],\"scatter\":[{\"fillpattern\":{\"fillmode\":\"overlay\",\"size\":10,\"solidity\":0.2},\"type\":\"scatter\"}],\"parcoords\":[{\"type\":\"parcoords\",\"line\":{\"colorbar\":{\"outlinewidth\":0,\"ticks\":\"\"}}}],\"scatterpolargl\":[{\"type\":\"scatterpolargl\",\"marker\":{\"colorbar\":{\"outlinewidth\":0,\"ticks\":\"\"}}}],\"bar\":[{\"error_x\":{\"color\":\"#2a3f5f\"},\"error_y\":{\"color\":\"#2a3f5f\"},\"marker\":{\"line\":{\"color\":\"#E5ECF6\",\"width\":0.5},\"pattern\":{\"fillmode\":\"overlay\",\"size\":10,\"solidity\":0.2}},\"type\":\"bar\"}],\"scattergeo\":[{\"type\":\"scattergeo\",\"marker\":{\"colorbar\":{\"outlinewidth\":0,\"ticks\":\"\"}}}],\"scatterpolar\":[{\"type\":\"scatterpolar\",\"marker\":{\"colorbar\":{\"outlinewidth\":0,\"ticks\":\"\"}}}],\"histogram\":[{\"marker\":{\"pattern\":{\"fillmode\":\"overlay\",\"size\":10,\"solidity\":0.2}},\"type\":\"histogram\"}],\"scattergl\":[{\"type\":\"scattergl\",\"marker\":{\"colorbar\":{\"outlinewidth\":0,\"ticks\":\"\"}}}],\"scatter3d\":[{\"type\":\"scatter3d\",\"line\":{\"colorbar\":{\"outlinewidth\":0,\"ticks\":\"\"}},\"marker\":{\"colorbar\":{\"outlinewidth\":0,\"ticks\":\"\"}}}],\"scattermapbox\":[{\"type\":\"scattermapbox\",\"marker\":{\"colorbar\":{\"outlinewidth\":0,\"ticks\":\"\"}}}],\"scatterternary\":[{\"type\":\"scatterternary\",\"marker\":{\"colorbar\":{\"outlinewidth\":0,\"ticks\":\"\"}}}],\"scattercarpet\":[{\"type\":\"scattercarpet\",\"marker\":{\"colorbar\":{\"outlinewidth\":0,\"ticks\":\"\"}}}],\"carpet\":[{\"aaxis\":{\"endlinecolor\":\"#2a3f5f\",\"gridcolor\":\"white\",\"linecolor\":\"white\",\"minorgridcolor\":\"white\",\"startlinecolor\":\"#2a3f5f\"},\"baxis\":{\"endlinecolor\":\"#2a3f5f\",\"gridcolor\":\"white\",\"linecolor\":\"white\",\"minorgridcolor\":\"white\",\"startlinecolor\":\"#2a3f5f\"},\"type\":\"carpet\"}],\"table\":[{\"cells\":{\"fill\":{\"color\":\"#EBF0F8\"},\"line\":{\"color\":\"white\"}},\"header\":{\"fill\":{\"color\":\"#C8D4E3\"},\"line\":{\"color\":\"white\"}},\"type\":\"table\"}],\"barpolar\":[{\"marker\":{\"line\":{\"color\":\"#E5ECF6\",\"width\":0.5},\"pattern\":{\"fillmode\":\"overlay\",\"size\":10,\"solidity\":0.2}},\"type\":\"barpolar\"}],\"pie\":[{\"automargin\":true,\"type\":\"pie\"}]},\"layout\":{\"autotypenumbers\":\"strict\",\"colorway\":[\"#636efa\",\"#EF553B\",\"#00cc96\",\"#ab63fa\",\"#FFA15A\",\"#19d3f3\",\"#FF6692\",\"#B6E880\",\"#FF97FF\",\"#FECB52\"],\"font\":{\"color\":\"#2a3f5f\"},\"hovermode\":\"closest\",\"hoverlabel\":{\"align\":\"left\"},\"paper_bgcolor\":\"white\",\"plot_bgcolor\":\"#E5ECF6\",\"polar\":{\"bgcolor\":\"#E5ECF6\",\"angularaxis\":{\"gridcolor\":\"white\",\"linecolor\":\"white\",\"ticks\":\"\"},\"radialaxis\":{\"gridcolor\":\"white\",\"linecolor\":\"white\",\"ticks\":\"\"}},\"ternary\":{\"bgcolor\":\"#E5ECF6\",\"aaxis\":{\"gridcolor\":\"white\",\"linecolor\":\"white\",\"ticks\":\"\"},\"baxis\":{\"gridcolor\":\"white\",\"linecolor\":\"white\",\"ticks\":\"\"},\"caxis\":{\"gridcolor\":\"white\",\"linecolor\":\"white\",\"ticks\":\"\"}},\"coloraxis\":{\"colorbar\":{\"outlinewidth\":0,\"ticks\":\"\"}},\"colorscale\":{\"sequential\":[[0.0,\"#0d0887\"],[0.1111111111111111,\"#46039f\"],[0.2222222222222222,\"#7201a8\"],[0.3333333333333333,\"#9c179e\"],[0.4444444444444444,\"#bd3786\"],[0.5555555555555556,\"#d8576b\"],[0.6666666666666666,\"#ed7953\"],[0.7777777777777778,\"#fb9f3a\"],[0.8888888888888888,\"#fdca26\"],[1.0,\"#f0f921\"]],\"sequentialminus\":[[0.0,\"#0d0887\"],[0.1111111111111111,\"#46039f\"],[0.2222222222222222,\"#7201a8\"],[0.3333333333333333,\"#9c179e\"],[0.4444444444444444,\"#bd3786\"],[0.5555555555555556,\"#d8576b\"],[0.6666666666666666,\"#ed7953\"],[0.7777777777777778,\"#fb9f3a\"],[0.8888888888888888,\"#fdca26\"],[1.0,\"#f0f921\"]],\"diverging\":[[0,\"#8e0152\"],[0.1,\"#c51b7d\"],[0.2,\"#de77ae\"],[0.3,\"#f1b6da\"],[0.4,\"#fde0ef\"],[0.5,\"#f7f7f7\"],[0.6,\"#e6f5d0\"],[0.7,\"#b8e186\"],[0.8,\"#7fbc41\"],[0.9,\"#4d9221\"],[1,\"#276419\"]]},\"xaxis\":{\"gridcolor\":\"white\",\"linecolor\":\"white\",\"ticks\":\"\",\"title\":{\"standoff\":15},\"zerolinecolor\":\"white\",\"automargin\":true,\"zerolinewidth\":2},\"yaxis\":{\"gridcolor\":\"white\",\"linecolor\":\"white\",\"ticks\":\"\",\"title\":{\"standoff\":15},\"zerolinecolor\":\"white\",\"automargin\":true,\"zerolinewidth\":2},\"scene\":{\"xaxis\":{\"backgroundcolor\":\"#E5ECF6\",\"gridcolor\":\"white\",\"linecolor\":\"white\",\"showbackground\":true,\"ticks\":\"\",\"zerolinecolor\":\"white\",\"gridwidth\":2},\"yaxis\":{\"backgroundcolor\":\"#E5ECF6\",\"gridcolor\":\"white\",\"linecolor\":\"white\",\"showbackground\":true,\"ticks\":\"\",\"zerolinecolor\":\"white\",\"gridwidth\":2},\"zaxis\":{\"backgroundcolor\":\"#E5ECF6\",\"gridcolor\":\"white\",\"linecolor\":\"white\",\"showbackground\":true,\"ticks\":\"\",\"zerolinecolor\":\"white\",\"gridwidth\":2}},\"shapedefaults\":{\"line\":{\"color\":\"#2a3f5f\"}},\"annotationdefaults\":{\"arrowcolor\":\"#2a3f5f\",\"arrowhead\":0,\"arrowwidth\":1},\"geo\":{\"bgcolor\":\"white\",\"landcolor\":\"#E5ECF6\",\"subunitcolor\":\"white\",\"showland\":true,\"showlakes\":true,\"lakecolor\":\"white\"},\"title\":{\"x\":0.05},\"mapbox\":{\"style\":\"light\"}}},\"geo\":{\"domain\":{\"x\":[0.0,1.0],\"y\":[0.0,1.0]},\"projection\":{\"type\":\"equirectangular\"},\"center\":{},\"showframe\":false,\"showcoastlines\":false},\"legend\":{\"title\":{\"text\":\"countries\"},\"tracegroupgap\":0,\"itemsizing\":\"constant\"},\"margin\":{\"t\":60,\"l\":1,\"r\":1,\"b\":1},\"title\":{\"text\":\"Youtube Live Views by Country\"},\"showlegend\":false},                        {\"responsive\": true}                    ).then(function(){\n",
       "                            \n",
       "var gd = document.getElementById('ed98d505-0185-4957-abe4-d9f664998193');\n",
       "var x = new MutationObserver(function (mutations, observer) {{\n",
       "        var display = window.getComputedStyle(gd).display;\n",
       "        if (!display || display === 'none') {{\n",
       "            console.log([gd, 'removed!']);\n",
       "            Plotly.purge(gd);\n",
       "            observer.disconnect();\n",
       "        }}\n",
       "}});\n",
       "\n",
       "// Listen for the removal of the full notebook cells\n",
       "var notebookContainer = gd.closest('#notebook-container');\n",
       "if (notebookContainer) {{\n",
       "    x.observe(notebookContainer, {childList: true});\n",
       "}}\n",
       "\n",
       "// Listen for the clearing of the current output cell\n",
       "var outputEl = gd.closest('.output');\n",
       "if (outputEl) {{\n",
       "    x.observe(outputEl, {childList: true});\n",
       "}}\n",
       "\n",
       "                        })                };                });            </script>        </div>"
      ]
     },
     "metadata": {},
     "output_type": "display_data"
    }
   ],
   "source": [
    "# bubble maps\n",
    "fig_map = px.scatter_geo(df_country, locations=\"countries\", locationmode='country names', color=\"countries\", size=\"amount\", hover_name=\"countries\", size_max=60, projection=\"natural earth\")\n",
    "fig_map.update_layout(title_text='Youtube Live Views by Country',showlegend=False, \n",
    "geo=dict(showframe=False, showcoastlines=False, projection_type='equirectangular'))\n",
    "\n",
    "# increase map size\n",
    "# fig.update_layout(\n",
    "#     autosize=True,\n",
    "#     width=1000,\n",
    "#     height=1000,\n",
    "# )\n",
    "\n",
    "# decrease border size of chart\n",
    "fig_map.update_layout(\n",
    "    margin=dict(l=1, r=1, t=60, b=1),\n",
    ")\n",
    "\n",
    "fig_map.show()"
   ]
  },
  {
   "cell_type": "code",
   "execution_count": 16,
   "metadata": {},
   "outputs": [
    {
     "data": {
      "application/vnd.plotly.v1+json": {
       "config": {
        "plotlyServerURL": "https://plot.ly"
       },
       "data": [
        {
         "coloraxis": "coloraxis",
         "geo": "geo",
         "hovertemplate": "<b>%{hovertext}</b><br><br>countries=%{location}<br>amount=%{z}<extra></extra>",
         "hovertext": [
          "thailand",
          "cambodia",
          "brazil",
          "indonesia",
          "philippines",
          "vietnam",
          "myanmar",
          "mexico",
          "colombia",
          "puerto rico",
          "mozambique",
          "malaysia",
          "peru",
          "guatemala",
          "paraguay",
          "ecuador",
          "india",
          "spain",
          "dominica",
          "honduras",
          "hong kong",
          "ukraine",
          "uganda",
          "mauritius",
          "costa rica",
          "nigeria",
          "panama",
          "ghana",
          "nicaragua",
          "angola",
          "australia",
          "japan",
          "italy",
          "israel",
          "germany",
          "hongkong",
          "china",
          "nepal",
          "pakistan",
          "mongolia",
          "chile",
          "south africa",
          "lao",
          "argentina",
          "el salvador",
          "curaçao",
          "cuba",
          "netherlands",
          "bangladesh",
          "france",
          "dominican republic",
          "poland",
          "united kingdom",
          "singapore",
          "canada",
          "sri lanka",
          "turkey",
          "chad",
          "somalia",
          "czechia",
          "oman",
          "denmark",
          "mali",
          "zimbabwe"
         ],
         "locationmode": "country names",
         "locations": [
          "thailand",
          "cambodia",
          "brazil",
          "indonesia",
          "philippines",
          "vietnam",
          "myanmar",
          "mexico",
          "colombia",
          "puerto rico",
          "mozambique",
          "malaysia",
          "peru",
          "guatemala",
          "paraguay",
          "ecuador",
          "india",
          "spain",
          "dominica",
          "honduras",
          "hong kong",
          "ukraine",
          "uganda",
          "mauritius",
          "costa rica",
          "nigeria",
          "panama",
          "ghana",
          "nicaragua",
          "angola",
          "australia",
          "japan",
          "italy",
          "israel",
          "germany",
          "hongkong",
          "china",
          "nepal",
          "pakistan",
          "mongolia",
          "chile",
          "south africa",
          "lao",
          "argentina",
          "el salvador",
          "curaçao",
          "cuba",
          "netherlands",
          "bangladesh",
          "france",
          "dominican republic",
          "poland",
          "united kingdom",
          "singapore",
          "canada",
          "sri lanka",
          "turkey",
          "chad",
          "somalia",
          "czechia",
          "oman",
          "denmark",
          "mali",
          "zimbabwe"
         ],
         "name": "",
         "type": "choropleth",
         "z": [
          12476,
          5266,
          4360,
          3723,
          1807,
          1414,
          610,
          207,
          189,
          140,
          134,
          121,
          93,
          78,
          75,
          73,
          48,
          45,
          31,
          27,
          26,
          24,
          23,
          21,
          17,
          16,
          13,
          11,
          11,
          10,
          10,
          9,
          7,
          7,
          7,
          6,
          6,
          6,
          5,
          4,
          4,
          3,
          3,
          3,
          3,
          3,
          3,
          2,
          2,
          2,
          2,
          2,
          2,
          2,
          2,
          2,
          1,
          1,
          1,
          1,
          1,
          1,
          1,
          1
         ]
        }
       ],
       "layout": {
        "coloraxis": {
         "colorbar": {
          "title": {
           "text": "amount"
          }
         },
         "colorscale": [
          [
           0,
           "#0d0887"
          ],
          [
           0.1111111111111111,
           "#46039f"
          ],
          [
           0.2222222222222222,
           "#7201a8"
          ],
          [
           0.3333333333333333,
           "#9c179e"
          ],
          [
           0.4444444444444444,
           "#bd3786"
          ],
          [
           0.5555555555555556,
           "#d8576b"
          ],
          [
           0.6666666666666666,
           "#ed7953"
          ],
          [
           0.7777777777777778,
           "#fb9f3a"
          ],
          [
           0.8888888888888888,
           "#fdca26"
          ],
          [
           1,
           "#f0f921"
          ]
         ]
        },
        "geo": {
         "center": {},
         "domain": {
          "x": [
           0,
           1
          ],
          "y": [
           0,
           1
          ]
         }
        },
        "legend": {
         "tracegroupgap": 0
        },
        "margin": {
         "t": 60
        },
        "template": {
         "data": {
          "bar": [
           {
            "error_x": {
             "color": "#2a3f5f"
            },
            "error_y": {
             "color": "#2a3f5f"
            },
            "marker": {
             "line": {
              "color": "#E5ECF6",
              "width": 0.5
             },
             "pattern": {
              "fillmode": "overlay",
              "size": 10,
              "solidity": 0.2
             }
            },
            "type": "bar"
           }
          ],
          "barpolar": [
           {
            "marker": {
             "line": {
              "color": "#E5ECF6",
              "width": 0.5
             },
             "pattern": {
              "fillmode": "overlay",
              "size": 10,
              "solidity": 0.2
             }
            },
            "type": "barpolar"
           }
          ],
          "carpet": [
           {
            "aaxis": {
             "endlinecolor": "#2a3f5f",
             "gridcolor": "white",
             "linecolor": "white",
             "minorgridcolor": "white",
             "startlinecolor": "#2a3f5f"
            },
            "baxis": {
             "endlinecolor": "#2a3f5f",
             "gridcolor": "white",
             "linecolor": "white",
             "minorgridcolor": "white",
             "startlinecolor": "#2a3f5f"
            },
            "type": "carpet"
           }
          ],
          "choropleth": [
           {
            "colorbar": {
             "outlinewidth": 0,
             "ticks": ""
            },
            "type": "choropleth"
           }
          ],
          "contour": [
           {
            "colorbar": {
             "outlinewidth": 0,
             "ticks": ""
            },
            "colorscale": [
             [
              0,
              "#0d0887"
             ],
             [
              0.1111111111111111,
              "#46039f"
             ],
             [
              0.2222222222222222,
              "#7201a8"
             ],
             [
              0.3333333333333333,
              "#9c179e"
             ],
             [
              0.4444444444444444,
              "#bd3786"
             ],
             [
              0.5555555555555556,
              "#d8576b"
             ],
             [
              0.6666666666666666,
              "#ed7953"
             ],
             [
              0.7777777777777778,
              "#fb9f3a"
             ],
             [
              0.8888888888888888,
              "#fdca26"
             ],
             [
              1,
              "#f0f921"
             ]
            ],
            "type": "contour"
           }
          ],
          "contourcarpet": [
           {
            "colorbar": {
             "outlinewidth": 0,
             "ticks": ""
            },
            "type": "contourcarpet"
           }
          ],
          "heatmap": [
           {
            "colorbar": {
             "outlinewidth": 0,
             "ticks": ""
            },
            "colorscale": [
             [
              0,
              "#0d0887"
             ],
             [
              0.1111111111111111,
              "#46039f"
             ],
             [
              0.2222222222222222,
              "#7201a8"
             ],
             [
              0.3333333333333333,
              "#9c179e"
             ],
             [
              0.4444444444444444,
              "#bd3786"
             ],
             [
              0.5555555555555556,
              "#d8576b"
             ],
             [
              0.6666666666666666,
              "#ed7953"
             ],
             [
              0.7777777777777778,
              "#fb9f3a"
             ],
             [
              0.8888888888888888,
              "#fdca26"
             ],
             [
              1,
              "#f0f921"
             ]
            ],
            "type": "heatmap"
           }
          ],
          "heatmapgl": [
           {
            "colorbar": {
             "outlinewidth": 0,
             "ticks": ""
            },
            "colorscale": [
             [
              0,
              "#0d0887"
             ],
             [
              0.1111111111111111,
              "#46039f"
             ],
             [
              0.2222222222222222,
              "#7201a8"
             ],
             [
              0.3333333333333333,
              "#9c179e"
             ],
             [
              0.4444444444444444,
              "#bd3786"
             ],
             [
              0.5555555555555556,
              "#d8576b"
             ],
             [
              0.6666666666666666,
              "#ed7953"
             ],
             [
              0.7777777777777778,
              "#fb9f3a"
             ],
             [
              0.8888888888888888,
              "#fdca26"
             ],
             [
              1,
              "#f0f921"
             ]
            ],
            "type": "heatmapgl"
           }
          ],
          "histogram": [
           {
            "marker": {
             "pattern": {
              "fillmode": "overlay",
              "size": 10,
              "solidity": 0.2
             }
            },
            "type": "histogram"
           }
          ],
          "histogram2d": [
           {
            "colorbar": {
             "outlinewidth": 0,
             "ticks": ""
            },
            "colorscale": [
             [
              0,
              "#0d0887"
             ],
             [
              0.1111111111111111,
              "#46039f"
             ],
             [
              0.2222222222222222,
              "#7201a8"
             ],
             [
              0.3333333333333333,
              "#9c179e"
             ],
             [
              0.4444444444444444,
              "#bd3786"
             ],
             [
              0.5555555555555556,
              "#d8576b"
             ],
             [
              0.6666666666666666,
              "#ed7953"
             ],
             [
              0.7777777777777778,
              "#fb9f3a"
             ],
             [
              0.8888888888888888,
              "#fdca26"
             ],
             [
              1,
              "#f0f921"
             ]
            ],
            "type": "histogram2d"
           }
          ],
          "histogram2dcontour": [
           {
            "colorbar": {
             "outlinewidth": 0,
             "ticks": ""
            },
            "colorscale": [
             [
              0,
              "#0d0887"
             ],
             [
              0.1111111111111111,
              "#46039f"
             ],
             [
              0.2222222222222222,
              "#7201a8"
             ],
             [
              0.3333333333333333,
              "#9c179e"
             ],
             [
              0.4444444444444444,
              "#bd3786"
             ],
             [
              0.5555555555555556,
              "#d8576b"
             ],
             [
              0.6666666666666666,
              "#ed7953"
             ],
             [
              0.7777777777777778,
              "#fb9f3a"
             ],
             [
              0.8888888888888888,
              "#fdca26"
             ],
             [
              1,
              "#f0f921"
             ]
            ],
            "type": "histogram2dcontour"
           }
          ],
          "mesh3d": [
           {
            "colorbar": {
             "outlinewidth": 0,
             "ticks": ""
            },
            "type": "mesh3d"
           }
          ],
          "parcoords": [
           {
            "line": {
             "colorbar": {
              "outlinewidth": 0,
              "ticks": ""
             }
            },
            "type": "parcoords"
           }
          ],
          "pie": [
           {
            "automargin": true,
            "type": "pie"
           }
          ],
          "scatter": [
           {
            "fillpattern": {
             "fillmode": "overlay",
             "size": 10,
             "solidity": 0.2
            },
            "type": "scatter"
           }
          ],
          "scatter3d": [
           {
            "line": {
             "colorbar": {
              "outlinewidth": 0,
              "ticks": ""
             }
            },
            "marker": {
             "colorbar": {
              "outlinewidth": 0,
              "ticks": ""
             }
            },
            "type": "scatter3d"
           }
          ],
          "scattercarpet": [
           {
            "marker": {
             "colorbar": {
              "outlinewidth": 0,
              "ticks": ""
             }
            },
            "type": "scattercarpet"
           }
          ],
          "scattergeo": [
           {
            "marker": {
             "colorbar": {
              "outlinewidth": 0,
              "ticks": ""
             }
            },
            "type": "scattergeo"
           }
          ],
          "scattergl": [
           {
            "marker": {
             "colorbar": {
              "outlinewidth": 0,
              "ticks": ""
             }
            },
            "type": "scattergl"
           }
          ],
          "scattermapbox": [
           {
            "marker": {
             "colorbar": {
              "outlinewidth": 0,
              "ticks": ""
             }
            },
            "type": "scattermapbox"
           }
          ],
          "scatterpolar": [
           {
            "marker": {
             "colorbar": {
              "outlinewidth": 0,
              "ticks": ""
             }
            },
            "type": "scatterpolar"
           }
          ],
          "scatterpolargl": [
           {
            "marker": {
             "colorbar": {
              "outlinewidth": 0,
              "ticks": ""
             }
            },
            "type": "scatterpolargl"
           }
          ],
          "scatterternary": [
           {
            "marker": {
             "colorbar": {
              "outlinewidth": 0,
              "ticks": ""
             }
            },
            "type": "scatterternary"
           }
          ],
          "surface": [
           {
            "colorbar": {
             "outlinewidth": 0,
             "ticks": ""
            },
            "colorscale": [
             [
              0,
              "#0d0887"
             ],
             [
              0.1111111111111111,
              "#46039f"
             ],
             [
              0.2222222222222222,
              "#7201a8"
             ],
             [
              0.3333333333333333,
              "#9c179e"
             ],
             [
              0.4444444444444444,
              "#bd3786"
             ],
             [
              0.5555555555555556,
              "#d8576b"
             ],
             [
              0.6666666666666666,
              "#ed7953"
             ],
             [
              0.7777777777777778,
              "#fb9f3a"
             ],
             [
              0.8888888888888888,
              "#fdca26"
             ],
             [
              1,
              "#f0f921"
             ]
            ],
            "type": "surface"
           }
          ],
          "table": [
           {
            "cells": {
             "fill": {
              "color": "#EBF0F8"
             },
             "line": {
              "color": "white"
             }
            },
            "header": {
             "fill": {
              "color": "#C8D4E3"
             },
             "line": {
              "color": "white"
             }
            },
            "type": "table"
           }
          ]
         },
         "layout": {
          "annotationdefaults": {
           "arrowcolor": "#2a3f5f",
           "arrowhead": 0,
           "arrowwidth": 1
          },
          "autotypenumbers": "strict",
          "coloraxis": {
           "colorbar": {
            "outlinewidth": 0,
            "ticks": ""
           }
          },
          "colorscale": {
           "diverging": [
            [
             0,
             "#8e0152"
            ],
            [
             0.1,
             "#c51b7d"
            ],
            [
             0.2,
             "#de77ae"
            ],
            [
             0.3,
             "#f1b6da"
            ],
            [
             0.4,
             "#fde0ef"
            ],
            [
             0.5,
             "#f7f7f7"
            ],
            [
             0.6,
             "#e6f5d0"
            ],
            [
             0.7,
             "#b8e186"
            ],
            [
             0.8,
             "#7fbc41"
            ],
            [
             0.9,
             "#4d9221"
            ],
            [
             1,
             "#276419"
            ]
           ],
           "sequential": [
            [
             0,
             "#0d0887"
            ],
            [
             0.1111111111111111,
             "#46039f"
            ],
            [
             0.2222222222222222,
             "#7201a8"
            ],
            [
             0.3333333333333333,
             "#9c179e"
            ],
            [
             0.4444444444444444,
             "#bd3786"
            ],
            [
             0.5555555555555556,
             "#d8576b"
            ],
            [
             0.6666666666666666,
             "#ed7953"
            ],
            [
             0.7777777777777778,
             "#fb9f3a"
            ],
            [
             0.8888888888888888,
             "#fdca26"
            ],
            [
             1,
             "#f0f921"
            ]
           ],
           "sequentialminus": [
            [
             0,
             "#0d0887"
            ],
            [
             0.1111111111111111,
             "#46039f"
            ],
            [
             0.2222222222222222,
             "#7201a8"
            ],
            [
             0.3333333333333333,
             "#9c179e"
            ],
            [
             0.4444444444444444,
             "#bd3786"
            ],
            [
             0.5555555555555556,
             "#d8576b"
            ],
            [
             0.6666666666666666,
             "#ed7953"
            ],
            [
             0.7777777777777778,
             "#fb9f3a"
            ],
            [
             0.8888888888888888,
             "#fdca26"
            ],
            [
             1,
             "#f0f921"
            ]
           ]
          },
          "colorway": [
           "#636efa",
           "#EF553B",
           "#00cc96",
           "#ab63fa",
           "#FFA15A",
           "#19d3f3",
           "#FF6692",
           "#B6E880",
           "#FF97FF",
           "#FECB52"
          ],
          "font": {
           "color": "#2a3f5f"
          },
          "geo": {
           "bgcolor": "white",
           "lakecolor": "white",
           "landcolor": "#E5ECF6",
           "showlakes": true,
           "showland": true,
           "subunitcolor": "white"
          },
          "hoverlabel": {
           "align": "left"
          },
          "hovermode": "closest",
          "mapbox": {
           "style": "light"
          },
          "paper_bgcolor": "white",
          "plot_bgcolor": "#E5ECF6",
          "polar": {
           "angularaxis": {
            "gridcolor": "white",
            "linecolor": "white",
            "ticks": ""
           },
           "bgcolor": "#E5ECF6",
           "radialaxis": {
            "gridcolor": "white",
            "linecolor": "white",
            "ticks": ""
           }
          },
          "scene": {
           "xaxis": {
            "backgroundcolor": "#E5ECF6",
            "gridcolor": "white",
            "gridwidth": 2,
            "linecolor": "white",
            "showbackground": true,
            "ticks": "",
            "zerolinecolor": "white"
           },
           "yaxis": {
            "backgroundcolor": "#E5ECF6",
            "gridcolor": "white",
            "gridwidth": 2,
            "linecolor": "white",
            "showbackground": true,
            "ticks": "",
            "zerolinecolor": "white"
           },
           "zaxis": {
            "backgroundcolor": "#E5ECF6",
            "gridcolor": "white",
            "gridwidth": 2,
            "linecolor": "white",
            "showbackground": true,
            "ticks": "",
            "zerolinecolor": "white"
           }
          },
          "shapedefaults": {
           "line": {
            "color": "#2a3f5f"
           }
          },
          "ternary": {
           "aaxis": {
            "gridcolor": "white",
            "linecolor": "white",
            "ticks": ""
           },
           "baxis": {
            "gridcolor": "white",
            "linecolor": "white",
            "ticks": ""
           },
           "bgcolor": "#E5ECF6",
           "caxis": {
            "gridcolor": "white",
            "linecolor": "white",
            "ticks": ""
           }
          },
          "title": {
           "x": 0.05
          },
          "xaxis": {
           "automargin": true,
           "gridcolor": "white",
           "linecolor": "white",
           "ticks": "",
           "title": {
            "standoff": 15
           },
           "zerolinecolor": "white",
           "zerolinewidth": 2
          },
          "yaxis": {
           "automargin": true,
           "gridcolor": "white",
           "linecolor": "white",
           "ticks": "",
           "title": {
            "standoff": 15
           },
           "zerolinecolor": "white",
           "zerolinewidth": 2
          }
         }
        },
        "title": {
         "text": "Youtube Live Views by Country"
        }
       }
      }
     },
     "metadata": {},
     "output_type": "display_data"
    }
   ],
   "source": [
    "# Map chart with plotly express\n",
    "fig = px.choropleth(df_country, locations=\"countries\", locationmode='country names', color=\"amount\", hover_name=\"countries\", color_continuous_scale=px.colors.sequential.Plasma)\n",
    "fig.update_layout(title_text='Youtube Live Views by Country')\n",
    "fig.show()"
   ]
  }
 ],
 "metadata": {
  "kernelspec": {
   "display_name": "py3_10",
   "language": "python",
   "name": "python3"
  },
  "language_info": {
   "codemirror_mode": {
    "name": "ipython",
    "version": 3
   },
   "file_extension": ".py",
   "mimetype": "text/x-python",
   "name": "python",
   "nbconvert_exporter": "python",
   "pygments_lexer": "ipython3",
   "version": "3.10.8"
  },
  "orig_nbformat": 4,
  "vscode": {
   "interpreter": {
    "hash": "805e5218586fdc5d32352a1884e78ba794c967bb107191d987ced287c4673e72"
   }
  }
 },
 "nbformat": 4,
 "nbformat_minor": 2
}
